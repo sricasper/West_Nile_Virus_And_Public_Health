{
 "cells": [
  {
   "cell_type": "markdown",
   "metadata": {},
   "source": [
    "<div id=\"container\" style=\"position:relative;\">\n",
    "<div style=\"float:left\"><h1> Stats and Public Health Part 1</h1></div>\n",
    "<div style=\"position:relative; float:right\">"
   ]
  },
  {
   "cell_type": "markdown",
   "metadata": {},
   "source": [
    "### Sri Casper"
   ]
  },
  {
   "cell_type": "markdown",
   "metadata": {},
   "source": [
    "### Dataset\n",
    "\n",
    "Mosquito_data dataset will be used in this report. The dataset contains information about West Nile Virus (WNV) which is a viral illness largely spread by mosquitos. The disease is transmitted to a person when an infected mosquito bites them. Moreover, the dataset also shows tracking data of mosquito populations and WNV prevalence using a series of traps that were placed around the city by The City of Chicago, Illinois from 2008 to 2019.\n",
    "\n",
    "#### Data Dictionary\n",
    "\n",
    "- <b>Year</b>: Year that the WNV test is performed (int64)\n",
    "- <b>Week</b>: Week that the WNV test is performed (int64)\n",
    "- <b>Address Block</b>: Address of the location of trap (string)\n",
    "- <b>Block</b>: Block number of address (int64)\n",
    "- <b>Trap</b>: Id of the trap (string)\n",
    "- <b>Trap type</b>: Type of trap (string)\n",
    "- <b>Date</b>: Date and time that the WNV test is performed (string)\n",
    "- <b>Mosquito number</b>: Number of mosquitoes caught in this trap (int64)\n",
    "- <b>Mosquito ID</b>: Id for Mosquito species (string)\n",
    "- <b>WNV Present</b>: Whether West Nile Virus was present in these mosquitos (string)\n",
    "- <b>Species</b>: Mosquito species (string)\n",
    "- <b>Lat</b>: Latitude of trap (float64)\n",
    "- <b>Lon</b>: Longitude of trap (float64)\n",
    "\n",
    "#### Field of Interest\n",
    "\n",
    "Explore the relationships within the dataset, such as mosquito number, species, WNV prevalence, and trap type."
   ]
  },
  {
   "cell_type": "markdown",
   "metadata": {},
   "source": [
    "### Data Loading"
   ]
  },
  {
   "cell_type": "code",
   "execution_count": 155,
   "metadata": {},
   "outputs": [],
   "source": [
    "# Import the libraries\n",
    "\n",
    "import pandas as pd\n",
    "import numpy as np\n",
    "import matplotlib.pyplot as plt\n",
    "import seaborn as sns"
   ]
  },
  {
   "cell_type": "code",
   "execution_count": 156,
   "metadata": {},
   "outputs": [],
   "source": [
    "# Get the data from a .csv file\n",
    "# Assign the file to 'mosquito_data'\n",
    "\n",
    "mosquito_data = pd.read_csv('mosquito_data.csv', index_col = 0)"
   ]
  },
  {
   "cell_type": "markdown",
   "metadata": {},
   "source": [
    "### Basic Data Wrangling"
   ]
  },
  {
   "cell_type": "markdown",
   "metadata": {},
   "source": [
    "- Check the shape of the data\n",
    "- Check the data info\n",
    "- Check the data head\n",
    "- Check the data tail\n",
    "- View some sample sets of the data\n",
    "- Get a quick breakdown of the summary statistics "
   ]
  },
  {
   "cell_type": "code",
   "execution_count": 157,
   "metadata": {},
   "outputs": [
    {
     "data": {
      "text/plain": [
       "(18495, 12)"
      ]
     },
     "execution_count": 157,
     "metadata": {},
     "output_type": "execute_result"
    }
   ],
   "source": [
    "# Shape of the dataframe\n",
    "\n",
    "mosquito_data.shape"
   ]
  },
  {
   "cell_type": "markdown",
   "metadata": {},
   "source": [
    "- The shape of the dataframe is (18495, 12)."
   ]
  },
  {
   "cell_type": "code",
   "execution_count": 158,
   "metadata": {},
   "outputs": [
    {
     "name": "stdout",
     "output_type": "stream",
     "text": [
      "<class 'pandas.core.frame.DataFrame'>\n",
      "Int64Index: 18495 entries, 2019 to 2015\n",
      "Data columns (total 12 columns):\n",
      " #   Column           Non-Null Count  Dtype  \n",
      "---  ------           --------------  -----  \n",
      " 0   Week             18495 non-null  int64  \n",
      " 1   Address Block    18495 non-null  object \n",
      " 2   Block            18495 non-null  int64  \n",
      " 3   Trap             18495 non-null  object \n",
      " 4   Trap type        18495 non-null  object \n",
      " 5   Date             18495 non-null  object \n",
      " 6   Mosquito number  18495 non-null  int64  \n",
      " 7   Mosquito ID      18495 non-null  object \n",
      " 8   WNV Present      18495 non-null  object \n",
      " 9   Species          18495 non-null  object \n",
      " 10  Lat              15571 non-null  float64\n",
      " 11  Lon              15571 non-null  float64\n",
      "dtypes: float64(2), int64(3), object(7)\n",
      "memory usage: 1.8+ MB\n"
     ]
    }
   ],
   "source": [
    "# See a quick summary of each column, the datatypes,\n",
    "# and the number of non-null values \n",
    "\n",
    "mosquito_data.info()"
   ]
  },
  {
   "cell_type": "code",
   "execution_count": 159,
   "metadata": {},
   "outputs": [
    {
     "data": {
      "text/html": [
       "<div>\n",
       "<style scoped>\n",
       "    .dataframe tbody tr th:only-of-type {\n",
       "        vertical-align: middle;\n",
       "    }\n",
       "\n",
       "    .dataframe tbody tr th {\n",
       "        vertical-align: top;\n",
       "    }\n",
       "\n",
       "    .dataframe thead th {\n",
       "        text-align: right;\n",
       "    }\n",
       "</style>\n",
       "<table border=\"1\" class=\"dataframe\">\n",
       "  <thead>\n",
       "    <tr style=\"text-align: right;\">\n",
       "      <th></th>\n",
       "      <th>Week</th>\n",
       "      <th>Address Block</th>\n",
       "      <th>Block</th>\n",
       "      <th>Trap</th>\n",
       "      <th>Trap type</th>\n",
       "      <th>Date</th>\n",
       "      <th>Mosquito number</th>\n",
       "      <th>Mosquito ID</th>\n",
       "      <th>WNV Present</th>\n",
       "      <th>Species</th>\n",
       "      <th>Lat</th>\n",
       "      <th>Lon</th>\n",
       "    </tr>\n",
       "    <tr>\n",
       "      <th>Year</th>\n",
       "      <th></th>\n",
       "      <th></th>\n",
       "      <th></th>\n",
       "      <th></th>\n",
       "      <th></th>\n",
       "      <th></th>\n",
       "      <th></th>\n",
       "      <th></th>\n",
       "      <th></th>\n",
       "      <th></th>\n",
       "      <th></th>\n",
       "      <th></th>\n",
       "    </tr>\n",
       "  </thead>\n",
       "  <tbody>\n",
       "    <tr>\n",
       "      <th>2019</th>\n",
       "      <td>39</td>\n",
       "      <td>100XX W OHARE AIRPORT</td>\n",
       "      <td>100</td>\n",
       "      <td>T910</td>\n",
       "      <td>GRAVID</td>\n",
       "      <td>2019-09-26 00:09:00</td>\n",
       "      <td>2</td>\n",
       "      <td>Res</td>\n",
       "      <td>negative</td>\n",
       "      <td>CULEX RESTUANS</td>\n",
       "      <td>NaN</td>\n",
       "      <td>NaN</td>\n",
       "    </tr>\n",
       "    <tr>\n",
       "      <th>2019</th>\n",
       "      <td>39</td>\n",
       "      <td>52XX S KOLMAR AVE</td>\n",
       "      <td>52</td>\n",
       "      <td>T114</td>\n",
       "      <td>GRAVID</td>\n",
       "      <td>2019-09-26 00:09:00</td>\n",
       "      <td>1</td>\n",
       "      <td>Res</td>\n",
       "      <td>negative</td>\n",
       "      <td>CULEX RESTUANS</td>\n",
       "      <td>41.798211</td>\n",
       "      <td>-87.736925</td>\n",
       "    </tr>\n",
       "    <tr>\n",
       "      <th>2019</th>\n",
       "      <td>39</td>\n",
       "      <td>58XX N WESTERN AVE</td>\n",
       "      <td>58</td>\n",
       "      <td>T028</td>\n",
       "      <td>GRAVID</td>\n",
       "      <td>2019-09-26 00:09:00</td>\n",
       "      <td>2</td>\n",
       "      <td>Res</td>\n",
       "      <td>negative</td>\n",
       "      <td>CULEX RESTUANS</td>\n",
       "      <td>41.987245</td>\n",
       "      <td>-87.689417</td>\n",
       "    </tr>\n",
       "    <tr>\n",
       "      <th>2019</th>\n",
       "      <td>39</td>\n",
       "      <td>39XX N SPRINGFIELD AVE</td>\n",
       "      <td>39</td>\n",
       "      <td>T228</td>\n",
       "      <td>GRAVID</td>\n",
       "      <td>2019-09-26 00:09:00</td>\n",
       "      <td>1</td>\n",
       "      <td>Res</td>\n",
       "      <td>negative</td>\n",
       "      <td>CULEX RESTUANS</td>\n",
       "      <td>41.953664</td>\n",
       "      <td>-87.724987</td>\n",
       "    </tr>\n",
       "    <tr>\n",
       "      <th>2019</th>\n",
       "      <td>39</td>\n",
       "      <td>131XX S BRANDON AVE</td>\n",
       "      <td>131</td>\n",
       "      <td>T209</td>\n",
       "      <td>GRAVID</td>\n",
       "      <td>2019-09-26 00:09:00</td>\n",
       "      <td>9</td>\n",
       "      <td>Res</td>\n",
       "      <td>negative</td>\n",
       "      <td>CULEX RESTUANS</td>\n",
       "      <td>41.657069</td>\n",
       "      <td>-87.546049</td>\n",
       "    </tr>\n",
       "  </tbody>\n",
       "</table>\n",
       "</div>"
      ],
      "text/plain": [
       "      Week           Address Block  Block  Trap Trap type  \\\n",
       "Year                                                        \n",
       "2019    39   100XX W OHARE AIRPORT    100  T910    GRAVID   \n",
       "2019    39       52XX S KOLMAR AVE     52  T114    GRAVID   \n",
       "2019    39      58XX N WESTERN AVE     58  T028    GRAVID   \n",
       "2019    39  39XX N SPRINGFIELD AVE     39  T228    GRAVID   \n",
       "2019    39     131XX S BRANDON AVE    131  T209    GRAVID   \n",
       "\n",
       "                     Date  Mosquito number Mosquito ID WNV Present  \\\n",
       "Year                                                                 \n",
       "2019  2019-09-26 00:09:00                2         Res    negative   \n",
       "2019  2019-09-26 00:09:00                1         Res    negative   \n",
       "2019  2019-09-26 00:09:00                2         Res    negative   \n",
       "2019  2019-09-26 00:09:00                1         Res    negative   \n",
       "2019  2019-09-26 00:09:00                9         Res    negative   \n",
       "\n",
       "             Species        Lat        Lon  \n",
       "Year                                        \n",
       "2019  CULEX RESTUANS        NaN        NaN  \n",
       "2019  CULEX RESTUANS  41.798211 -87.736925  \n",
       "2019  CULEX RESTUANS  41.987245 -87.689417  \n",
       "2019  CULEX RESTUANS  41.953664 -87.724987  \n",
       "2019  CULEX RESTUANS  41.657069 -87.546049  "
      ]
     },
     "execution_count": 159,
     "metadata": {},
     "output_type": "execute_result"
    }
   ],
   "source": [
    "# Check the data (head)\n",
    "\n",
    "mosquito_data.head()"
   ]
  },
  {
   "cell_type": "code",
   "execution_count": 160,
   "metadata": {},
   "outputs": [
    {
     "data": {
      "text/html": [
       "<div>\n",
       "<style scoped>\n",
       "    .dataframe tbody tr th:only-of-type {\n",
       "        vertical-align: middle;\n",
       "    }\n",
       "\n",
       "    .dataframe tbody tr th {\n",
       "        vertical-align: top;\n",
       "    }\n",
       "\n",
       "    .dataframe thead th {\n",
       "        text-align: right;\n",
       "    }\n",
       "</style>\n",
       "<table border=\"1\" class=\"dataframe\">\n",
       "  <thead>\n",
       "    <tr style=\"text-align: right;\">\n",
       "      <th></th>\n",
       "      <th>Week</th>\n",
       "      <th>Address Block</th>\n",
       "      <th>Block</th>\n",
       "      <th>Trap</th>\n",
       "      <th>Trap type</th>\n",
       "      <th>Date</th>\n",
       "      <th>Mosquito number</th>\n",
       "      <th>Mosquito ID</th>\n",
       "      <th>WNV Present</th>\n",
       "      <th>Species</th>\n",
       "      <th>Lat</th>\n",
       "      <th>Lon</th>\n",
       "    </tr>\n",
       "    <tr>\n",
       "      <th>Year</th>\n",
       "      <th></th>\n",
       "      <th></th>\n",
       "      <th></th>\n",
       "      <th></th>\n",
       "      <th></th>\n",
       "      <th></th>\n",
       "      <th></th>\n",
       "      <th></th>\n",
       "      <th></th>\n",
       "      <th></th>\n",
       "      <th></th>\n",
       "      <th></th>\n",
       "    </tr>\n",
       "  </thead>\n",
       "  <tbody>\n",
       "    <tr>\n",
       "      <th>2016</th>\n",
       "      <td>36</td>\n",
       "      <td>3XX W 18TH ST</td>\n",
       "      <td>3</td>\n",
       "      <td>T043</td>\n",
       "      <td>GRAVID</td>\n",
       "      <td>2016-09-09 00:09:00</td>\n",
       "      <td>4</td>\n",
       "      <td>Pip</td>\n",
       "      <td>positive</td>\n",
       "      <td>CULEX PIPIENS</td>\n",
       "      <td>41.857843</td>\n",
       "      <td>-87.635858</td>\n",
       "    </tr>\n",
       "    <tr>\n",
       "      <th>2007</th>\n",
       "      <td>34</td>\n",
       "      <td>46XX N MILWAUKEE AVE</td>\n",
       "      <td>46</td>\n",
       "      <td>T003</td>\n",
       "      <td>GRAVID</td>\n",
       "      <td>2007-08-24 00:08:00</td>\n",
       "      <td>19</td>\n",
       "      <td>Pip</td>\n",
       "      <td>positive</td>\n",
       "      <td>CULEX PIPIENS</td>\n",
       "      <td>41.965376</td>\n",
       "      <td>-87.758403</td>\n",
       "    </tr>\n",
       "    <tr>\n",
       "      <th>2016</th>\n",
       "      <td>30</td>\n",
       "      <td>127XX S DOTY AVE</td>\n",
       "      <td>127</td>\n",
       "      <td>T115</td>\n",
       "      <td>GRAVID</td>\n",
       "      <td>2016-07-27 00:07:00</td>\n",
       "      <td>34</td>\n",
       "      <td>Res</td>\n",
       "      <td>positive</td>\n",
       "      <td>CULEX RESTUANS</td>\n",
       "      <td>41.662395</td>\n",
       "      <td>-87.590176</td>\n",
       "    </tr>\n",
       "    <tr>\n",
       "      <th>2017</th>\n",
       "      <td>33</td>\n",
       "      <td>20XX N DOMINICK ST</td>\n",
       "      <td>20</td>\n",
       "      <td>T240B</td>\n",
       "      <td>SENTINEL</td>\n",
       "      <td>2017-08-17 00:08:00</td>\n",
       "      <td>50</td>\n",
       "      <td>Res</td>\n",
       "      <td>positive</td>\n",
       "      <td>CULEX RESTUANS</td>\n",
       "      <td>41.919197</td>\n",
       "      <td>-87.664758</td>\n",
       "    </tr>\n",
       "    <tr>\n",
       "      <th>2015</th>\n",
       "      <td>33</td>\n",
       "      <td>100XX W OHARE AIRPORT</td>\n",
       "      <td>100</td>\n",
       "      <td>T902</td>\n",
       "      <td>GRAVID</td>\n",
       "      <td>2015-08-20 00:08:00</td>\n",
       "      <td>6</td>\n",
       "      <td>Res</td>\n",
       "      <td>positive</td>\n",
       "      <td>CULEX RESTUANS</td>\n",
       "      <td>NaN</td>\n",
       "      <td>NaN</td>\n",
       "    </tr>\n",
       "  </tbody>\n",
       "</table>\n",
       "</div>"
      ],
      "text/plain": [
       "      Week          Address Block  Block   Trap Trap type  \\\n",
       "Year                                                        \n",
       "2016    36          3XX W 18TH ST      3   T043    GRAVID   \n",
       "2007    34   46XX N MILWAUKEE AVE     46   T003    GRAVID   \n",
       "2016    30       127XX S DOTY AVE    127   T115    GRAVID   \n",
       "2017    33     20XX N DOMINICK ST     20  T240B  SENTINEL   \n",
       "2015    33  100XX W OHARE AIRPORT    100   T902    GRAVID   \n",
       "\n",
       "                     Date  Mosquito number Mosquito ID WNV Present  \\\n",
       "Year                                                                 \n",
       "2016  2016-09-09 00:09:00                4         Pip    positive   \n",
       "2007  2007-08-24 00:08:00               19         Pip    positive   \n",
       "2016  2016-07-27 00:07:00               34         Res    positive   \n",
       "2017  2017-08-17 00:08:00               50         Res    positive   \n",
       "2015  2015-08-20 00:08:00                6         Res    positive   \n",
       "\n",
       "             Species        Lat        Lon  \n",
       "Year                                        \n",
       "2016   CULEX PIPIENS  41.857843 -87.635858  \n",
       "2007   CULEX PIPIENS  41.965376 -87.758403  \n",
       "2016  CULEX RESTUANS  41.662395 -87.590176  \n",
       "2017  CULEX RESTUANS  41.919197 -87.664758  \n",
       "2015  CULEX RESTUANS        NaN        NaN  "
      ]
     },
     "execution_count": 160,
     "metadata": {},
     "output_type": "execute_result"
    }
   ],
   "source": [
    "# Check the data (tail)\n",
    "\n",
    "mosquito_data.tail()"
   ]
  },
  {
   "cell_type": "code",
   "execution_count": 161,
   "metadata": {
    "scrolled": true
   },
   "outputs": [
    {
     "data": {
      "text/html": [
       "<div>\n",
       "<style scoped>\n",
       "    .dataframe tbody tr th:only-of-type {\n",
       "        vertical-align: middle;\n",
       "    }\n",
       "\n",
       "    .dataframe tbody tr th {\n",
       "        vertical-align: top;\n",
       "    }\n",
       "\n",
       "    .dataframe thead th {\n",
       "        text-align: right;\n",
       "    }\n",
       "</style>\n",
       "<table border=\"1\" class=\"dataframe\">\n",
       "  <thead>\n",
       "    <tr style=\"text-align: right;\">\n",
       "      <th></th>\n",
       "      <th>Week</th>\n",
       "      <th>Address Block</th>\n",
       "      <th>Block</th>\n",
       "      <th>Trap</th>\n",
       "      <th>Trap type</th>\n",
       "      <th>Date</th>\n",
       "      <th>Mosquito number</th>\n",
       "      <th>Mosquito ID</th>\n",
       "      <th>WNV Present</th>\n",
       "      <th>Species</th>\n",
       "      <th>Lat</th>\n",
       "      <th>Lon</th>\n",
       "    </tr>\n",
       "    <tr>\n",
       "      <th>Year</th>\n",
       "      <th></th>\n",
       "      <th></th>\n",
       "      <th></th>\n",
       "      <th></th>\n",
       "      <th></th>\n",
       "      <th></th>\n",
       "      <th></th>\n",
       "      <th></th>\n",
       "      <th></th>\n",
       "      <th></th>\n",
       "      <th></th>\n",
       "      <th></th>\n",
       "    </tr>\n",
       "  </thead>\n",
       "  <tbody>\n",
       "    <tr>\n",
       "      <th>2014</th>\n",
       "      <td>35</td>\n",
       "      <td>62XX N MCCLELLAN AVE</td>\n",
       "      <td>62</td>\n",
       "      <td>T236</td>\n",
       "      <td>GRAVID</td>\n",
       "      <td>2014-08-28 00:08:00</td>\n",
       "      <td>5</td>\n",
       "      <td>Pip</td>\n",
       "      <td>negative</td>\n",
       "      <td>CULEX PIPIENS</td>\n",
       "      <td>41.994966</td>\n",
       "      <td>-87.770837</td>\n",
       "    </tr>\n",
       "    <tr>\n",
       "      <th>2013</th>\n",
       "      <td>30</td>\n",
       "      <td>100XX W OHARE AIRPORT</td>\n",
       "      <td>100</td>\n",
       "      <td>T923</td>\n",
       "      <td>GRAVID</td>\n",
       "      <td>2013-07-25 00:07:00</td>\n",
       "      <td>5</td>\n",
       "      <td>Res</td>\n",
       "      <td>negative</td>\n",
       "      <td>CULEX RESTUANS</td>\n",
       "      <td>NaN</td>\n",
       "      <td>NaN</td>\n",
       "    </tr>\n",
       "    <tr>\n",
       "      <th>2014</th>\n",
       "      <td>30</td>\n",
       "      <td>51XX N MONT CLARE AVE</td>\n",
       "      <td>51</td>\n",
       "      <td>T223</td>\n",
       "      <td>GRAVID</td>\n",
       "      <td>2014-07-24 00:07:00</td>\n",
       "      <td>2</td>\n",
       "      <td>Res</td>\n",
       "      <td>negative</td>\n",
       "      <td>CULEX RESTUANS</td>\n",
       "      <td>41.974523</td>\n",
       "      <td>-87.804589</td>\n",
       "    </tr>\n",
       "    <tr>\n",
       "      <th>2015</th>\n",
       "      <td>27</td>\n",
       "      <td>62XX N MCCLELLAN AVE</td>\n",
       "      <td>62</td>\n",
       "      <td>T236</td>\n",
       "      <td>GRAVID</td>\n",
       "      <td>2015-07-09 00:07:00</td>\n",
       "      <td>7</td>\n",
       "      <td>Res</td>\n",
       "      <td>negative</td>\n",
       "      <td>CULEX RESTUANS</td>\n",
       "      <td>41.994966</td>\n",
       "      <td>-87.770837</td>\n",
       "    </tr>\n",
       "    <tr>\n",
       "      <th>2018</th>\n",
       "      <td>33</td>\n",
       "      <td>42XX W 65TH ST</td>\n",
       "      <td>42</td>\n",
       "      <td>T235</td>\n",
       "      <td>GRAVID</td>\n",
       "      <td>2018-08-16 00:08:00</td>\n",
       "      <td>26</td>\n",
       "      <td>Res</td>\n",
       "      <td>positive</td>\n",
       "      <td>CULEX RESTUANS</td>\n",
       "      <td>41.774846</td>\n",
       "      <td>-87.727996</td>\n",
       "    </tr>\n",
       "  </tbody>\n",
       "</table>\n",
       "</div>"
      ],
      "text/plain": [
       "      Week          Address Block  Block  Trap Trap type                 Date  \\\n",
       "Year                                                                            \n",
       "2014    35   62XX N MCCLELLAN AVE     62  T236    GRAVID  2014-08-28 00:08:00   \n",
       "2013    30  100XX W OHARE AIRPORT    100  T923    GRAVID  2013-07-25 00:07:00   \n",
       "2014    30  51XX N MONT CLARE AVE     51  T223    GRAVID  2014-07-24 00:07:00   \n",
       "2015    27   62XX N MCCLELLAN AVE     62  T236    GRAVID  2015-07-09 00:07:00   \n",
       "2018    33         42XX W 65TH ST     42  T235    GRAVID  2018-08-16 00:08:00   \n",
       "\n",
       "      Mosquito number Mosquito ID WNV Present         Species        Lat  \\\n",
       "Year                                                                       \n",
       "2014                5         Pip    negative   CULEX PIPIENS  41.994966   \n",
       "2013                5         Res    negative  CULEX RESTUANS        NaN   \n",
       "2014                2         Res    negative  CULEX RESTUANS  41.974523   \n",
       "2015                7         Res    negative  CULEX RESTUANS  41.994966   \n",
       "2018               26         Res    positive  CULEX RESTUANS  41.774846   \n",
       "\n",
       "            Lon  \n",
       "Year             \n",
       "2014 -87.770837  \n",
       "2013        NaN  \n",
       "2014 -87.804589  \n",
       "2015 -87.770837  \n",
       "2018 -87.727996  "
      ]
     },
     "execution_count": 161,
     "metadata": {},
     "output_type": "execute_result"
    }
   ],
   "source": [
    "# View 5 sample sets of the data\n",
    "\n",
    "mosquito_data.sample(5)"
   ]
  },
  {
   "cell_type": "code",
   "execution_count": 162,
   "metadata": {},
   "outputs": [
    {
     "data": {
      "text/html": [
       "<div>\n",
       "<style scoped>\n",
       "    .dataframe tbody tr th:only-of-type {\n",
       "        vertical-align: middle;\n",
       "    }\n",
       "\n",
       "    .dataframe tbody tr th {\n",
       "        vertical-align: top;\n",
       "    }\n",
       "\n",
       "    .dataframe thead th {\n",
       "        text-align: right;\n",
       "    }\n",
       "</style>\n",
       "<table border=\"1\" class=\"dataframe\">\n",
       "  <thead>\n",
       "    <tr style=\"text-align: right;\">\n",
       "      <th></th>\n",
       "      <th>count</th>\n",
       "      <th>mean</th>\n",
       "      <th>std</th>\n",
       "      <th>min</th>\n",
       "      <th>25%</th>\n",
       "      <th>50%</th>\n",
       "      <th>75%</th>\n",
       "      <th>max</th>\n",
       "    </tr>\n",
       "  </thead>\n",
       "  <tbody>\n",
       "    <tr>\n",
       "      <th>Week</th>\n",
       "      <td>18495.0</td>\n",
       "      <td>31.004001</td>\n",
       "      <td>4.332020</td>\n",
       "      <td>20.000000</td>\n",
       "      <td>28.000000</td>\n",
       "      <td>31.000000</td>\n",
       "      <td>34.000000</td>\n",
       "      <td>40.000000</td>\n",
       "    </tr>\n",
       "    <tr>\n",
       "      <th>Block</th>\n",
       "      <td>18495.0</td>\n",
       "      <td>54.314788</td>\n",
       "      <td>36.712796</td>\n",
       "      <td>1.000000</td>\n",
       "      <td>22.000000</td>\n",
       "      <td>51.000000</td>\n",
       "      <td>89.000000</td>\n",
       "      <td>132.000000</td>\n",
       "    </tr>\n",
       "    <tr>\n",
       "      <th>Mosquito number</th>\n",
       "      <td>18495.0</td>\n",
       "      <td>10.879913</td>\n",
       "      <td>13.475066</td>\n",
       "      <td>1.000000</td>\n",
       "      <td>2.000000</td>\n",
       "      <td>5.000000</td>\n",
       "      <td>14.000000</td>\n",
       "      <td>50.000000</td>\n",
       "    </tr>\n",
       "    <tr>\n",
       "      <th>Lat</th>\n",
       "      <td>15571.0</td>\n",
       "      <td>41.839963</td>\n",
       "      <td>0.111374</td>\n",
       "      <td>41.644720</td>\n",
       "      <td>41.742670</td>\n",
       "      <td>41.845715</td>\n",
       "      <td>41.945961</td>\n",
       "      <td>42.017801</td>\n",
       "    </tr>\n",
       "    <tr>\n",
       "      <th>Lon</th>\n",
       "      <td>15571.0</td>\n",
       "      <td>-87.691642</td>\n",
       "      <td>0.076545</td>\n",
       "      <td>-87.854473</td>\n",
       "      <td>-87.747459</td>\n",
       "      <td>-87.691698</td>\n",
       "      <td>-87.637873</td>\n",
       "      <td>-87.531051</td>\n",
       "    </tr>\n",
       "  </tbody>\n",
       "</table>\n",
       "</div>"
      ],
      "text/plain": [
       "                   count       mean        std        min        25%  \\\n",
       "Week             18495.0  31.004001   4.332020  20.000000  28.000000   \n",
       "Block            18495.0  54.314788  36.712796   1.000000  22.000000   \n",
       "Mosquito number  18495.0  10.879913  13.475066   1.000000   2.000000   \n",
       "Lat              15571.0  41.839963   0.111374  41.644720  41.742670   \n",
       "Lon              15571.0 -87.691642   0.076545 -87.854473 -87.747459   \n",
       "\n",
       "                       50%        75%         max  \n",
       "Week             31.000000  34.000000   40.000000  \n",
       "Block            51.000000  89.000000  132.000000  \n",
       "Mosquito number   5.000000  14.000000   50.000000  \n",
       "Lat              41.845715  41.945961   42.017801  \n",
       "Lon             -87.691698 -87.637873  -87.531051  "
      ]
     },
     "execution_count": 162,
     "metadata": {},
     "output_type": "execute_result"
    }
   ],
   "source": [
    "# Get a quick breakdown of the summary statistics \n",
    "# for numeric columns\n",
    "\n",
    "# use .T to take the transpose, this makes the columns the rows\n",
    "# It is useful when you have a large number of columns. \n",
    "\n",
    "mosquito_data.describe().T"
   ]
  },
  {
   "cell_type": "markdown",
   "metadata": {},
   "source": [
    "### Data Cleaning"
   ]
  },
  {
   "cell_type": "markdown",
   "metadata": {},
   "source": [
    "- Check if the columns have the right data\n",
    "- Check if some of the columns are duplicates\n",
    "- Check if there is any missing data\n",
    "- Check if data is of the correct type"
   ]
  },
  {
   "cell_type": "markdown",
   "metadata": {},
   "source": [
    "#### Find out if there is any duplicate"
   ]
  },
  {
   "cell_type": "code",
   "execution_count": 163,
   "metadata": {},
   "outputs": [
    {
     "data": {
      "text/plain": [
       "Year\n",
       "2019    False\n",
       "2019    False\n",
       "2019    False\n",
       "2019    False\n",
       "2019    False\n",
       "        ...  \n",
       "2016    False\n",
       "2007    False\n",
       "2016    False\n",
       "2017    False\n",
       "2015     True\n",
       "Length: 18495, dtype: bool"
      ]
     },
     "execution_count": 163,
     "metadata": {},
     "output_type": "execute_result"
    }
   ],
   "source": [
    "# Checking for any duplicate\n",
    "\n",
    "mosquito_data.duplicated()"
   ]
  },
  {
   "cell_type": "code",
   "execution_count": 164,
   "metadata": {},
   "outputs": [
    {
     "data": {
      "text/plain": [
       "658"
      ]
     },
     "execution_count": 164,
     "metadata": {},
     "output_type": "execute_result"
    }
   ],
   "source": [
    "# Sum the resultant array to get the total number of duplicate rows\n",
    "\n",
    "mosquito_data.duplicated().sum()  # TRUE = 1"
   ]
  },
  {
   "cell_type": "code",
   "execution_count": 165,
   "metadata": {},
   "outputs": [
    {
     "data": {
      "text/plain": [
       "3.5577183022438494"
      ]
     },
     "execution_count": 165,
     "metadata": {},
     "output_type": "execute_result"
    }
   ],
   "source": [
    "# Check what % of the dataset is duplicated\n",
    "\n",
    "((mosquito_data.duplicated().sum()) / mosquito_data.shape[0]) * 100"
   ]
  },
  {
   "cell_type": "code",
   "execution_count": 166,
   "metadata": {
    "scrolled": true
   },
   "outputs": [
    {
     "data": {
      "text/html": [
       "<div>\n",
       "<style scoped>\n",
       "    .dataframe tbody tr th:only-of-type {\n",
       "        vertical-align: middle;\n",
       "    }\n",
       "\n",
       "    .dataframe tbody tr th {\n",
       "        vertical-align: top;\n",
       "    }\n",
       "\n",
       "    .dataframe thead th {\n",
       "        text-align: right;\n",
       "    }\n",
       "</style>\n",
       "<table border=\"1\" class=\"dataframe\">\n",
       "  <thead>\n",
       "    <tr style=\"text-align: right;\">\n",
       "      <th></th>\n",
       "      <th>Week</th>\n",
       "      <th>Address Block</th>\n",
       "      <th>Block</th>\n",
       "      <th>Trap</th>\n",
       "      <th>Trap type</th>\n",
       "      <th>Date</th>\n",
       "      <th>Mosquito number</th>\n",
       "      <th>Mosquito ID</th>\n",
       "      <th>WNV Present</th>\n",
       "      <th>Species</th>\n",
       "      <th>Lat</th>\n",
       "      <th>Lon</th>\n",
       "    </tr>\n",
       "    <tr>\n",
       "      <th>Year</th>\n",
       "      <th></th>\n",
       "      <th></th>\n",
       "      <th></th>\n",
       "      <th></th>\n",
       "      <th></th>\n",
       "      <th></th>\n",
       "      <th></th>\n",
       "      <th></th>\n",
       "      <th></th>\n",
       "      <th></th>\n",
       "      <th></th>\n",
       "      <th></th>\n",
       "    </tr>\n",
       "  </thead>\n",
       "  <tbody>\n",
       "    <tr>\n",
       "      <th>2007</th>\n",
       "      <td>28</td>\n",
       "      <td>4XX W 127TH</td>\n",
       "      <td>4</td>\n",
       "      <td>T135</td>\n",
       "      <td>CDC</td>\n",
       "      <td>2007-08-01 02:08:34</td>\n",
       "      <td>10</td>\n",
       "      <td>Pip</td>\n",
       "      <td>positive</td>\n",
       "      <td>CULEX PIPIENS</td>\n",
       "      <td>NaN</td>\n",
       "      <td>NaN</td>\n",
       "    </tr>\n",
       "    <tr>\n",
       "      <th>2007</th>\n",
       "      <td>34</td>\n",
       "      <td>79XX S CHICAGO</td>\n",
       "      <td>79</td>\n",
       "      <td>T083</td>\n",
       "      <td>GRAVID</td>\n",
       "      <td>2007-08-24 00:08:00</td>\n",
       "      <td>14</td>\n",
       "      <td>Pip</td>\n",
       "      <td>positive</td>\n",
       "      <td>CULEX PIPIENS</td>\n",
       "      <td>NaN</td>\n",
       "      <td>NaN</td>\n",
       "    </tr>\n",
       "    <tr>\n",
       "      <th>2007</th>\n",
       "      <td>34</td>\n",
       "      <td>79XX S CHICAGO</td>\n",
       "      <td>79</td>\n",
       "      <td>T083</td>\n",
       "      <td>GRAVID</td>\n",
       "      <td>2007-08-24 00:08:00</td>\n",
       "      <td>14</td>\n",
       "      <td>Pip</td>\n",
       "      <td>positive</td>\n",
       "      <td>CULEX PIPIENS</td>\n",
       "      <td>NaN</td>\n",
       "      <td>NaN</td>\n",
       "    </tr>\n",
       "    <tr>\n",
       "      <th>2007</th>\n",
       "      <td>31</td>\n",
       "      <td>65XX N OAK PARK AVE</td>\n",
       "      <td>65</td>\n",
       "      <td>T143</td>\n",
       "      <td>GRAVID</td>\n",
       "      <td>2007-08-07 00:08:00</td>\n",
       "      <td>29</td>\n",
       "      <td>Pip</td>\n",
       "      <td>positive</td>\n",
       "      <td>CULEX PIPIENS</td>\n",
       "      <td>NaN</td>\n",
       "      <td>NaN</td>\n",
       "    </tr>\n",
       "    <tr>\n",
       "      <th>2007</th>\n",
       "      <td>34</td>\n",
       "      <td>4XX W 127TH</td>\n",
       "      <td>4</td>\n",
       "      <td>T135</td>\n",
       "      <td>CDC</td>\n",
       "      <td>2007-08-24 00:08:00</td>\n",
       "      <td>50</td>\n",
       "      <td>Pip</td>\n",
       "      <td>positive</td>\n",
       "      <td>CULEX PIPIENS</td>\n",
       "      <td>NaN</td>\n",
       "      <td>NaN</td>\n",
       "    </tr>\n",
       "    <tr>\n",
       "      <th>...</th>\n",
       "      <td>...</td>\n",
       "      <td>...</td>\n",
       "      <td>...</td>\n",
       "      <td>...</td>\n",
       "      <td>...</td>\n",
       "      <td>...</td>\n",
       "      <td>...</td>\n",
       "      <td>...</td>\n",
       "      <td>...</td>\n",
       "      <td>...</td>\n",
       "      <td>...</td>\n",
       "      <td>...</td>\n",
       "    </tr>\n",
       "    <tr>\n",
       "      <th>2019</th>\n",
       "      <td>32</td>\n",
       "      <td>100XX W OHARE AIRPORT</td>\n",
       "      <td>100</td>\n",
       "      <td>T913</td>\n",
       "      <td>GRAVID</td>\n",
       "      <td>2019-08-08 00:08:00</td>\n",
       "      <td>8</td>\n",
       "      <td>Res</td>\n",
       "      <td>positive</td>\n",
       "      <td>CULEX RESTUANS</td>\n",
       "      <td>NaN</td>\n",
       "      <td>NaN</td>\n",
       "    </tr>\n",
       "    <tr>\n",
       "      <th>2019</th>\n",
       "      <td>33</td>\n",
       "      <td>100XX W OHARE AIRPORT</td>\n",
       "      <td>100</td>\n",
       "      <td>T913</td>\n",
       "      <td>GRAVID</td>\n",
       "      <td>2019-08-15 00:08:00</td>\n",
       "      <td>15</td>\n",
       "      <td>Res</td>\n",
       "      <td>positive</td>\n",
       "      <td>CULEX RESTUANS</td>\n",
       "      <td>NaN</td>\n",
       "      <td>NaN</td>\n",
       "    </tr>\n",
       "    <tr>\n",
       "      <th>2019</th>\n",
       "      <td>27</td>\n",
       "      <td>100XX W OHARE AIRPORT</td>\n",
       "      <td>100</td>\n",
       "      <td>T905</td>\n",
       "      <td>GRAVID</td>\n",
       "      <td>2019-07-03 00:07:00</td>\n",
       "      <td>4</td>\n",
       "      <td>Res</td>\n",
       "      <td>positive</td>\n",
       "      <td>CULEX RESTUANS</td>\n",
       "      <td>NaN</td>\n",
       "      <td>NaN</td>\n",
       "    </tr>\n",
       "    <tr>\n",
       "      <th>2019</th>\n",
       "      <td>27</td>\n",
       "      <td>100XX W OHARE AIRPORT</td>\n",
       "      <td>100</td>\n",
       "      <td>T905</td>\n",
       "      <td>GRAVID</td>\n",
       "      <td>2019-07-03 00:07:00</td>\n",
       "      <td>4</td>\n",
       "      <td>Res</td>\n",
       "      <td>positive</td>\n",
       "      <td>CULEX RESTUANS</td>\n",
       "      <td>NaN</td>\n",
       "      <td>NaN</td>\n",
       "    </tr>\n",
       "    <tr>\n",
       "      <th>2019</th>\n",
       "      <td>33</td>\n",
       "      <td>100XX W OHARE</td>\n",
       "      <td>100</td>\n",
       "      <td>T903</td>\n",
       "      <td>GRAVID</td>\n",
       "      <td>2019-08-15 00:08:00</td>\n",
       "      <td>3</td>\n",
       "      <td>Res</td>\n",
       "      <td>positive</td>\n",
       "      <td>CULEX RESTUANS</td>\n",
       "      <td>NaN</td>\n",
       "      <td>NaN</td>\n",
       "    </tr>\n",
       "  </tbody>\n",
       "</table>\n",
       "<p>658 rows × 12 columns</p>\n",
       "</div>"
      ],
      "text/plain": [
       "      Week          Address Block  Block  Trap Trap type                 Date  \\\n",
       "Year                                                                            \n",
       "2007    28            4XX W 127TH      4  T135       CDC  2007-08-01 02:08:34   \n",
       "2007    34         79XX S CHICAGO     79  T083    GRAVID  2007-08-24 00:08:00   \n",
       "2007    34         79XX S CHICAGO     79  T083    GRAVID  2007-08-24 00:08:00   \n",
       "2007    31    65XX N OAK PARK AVE     65  T143    GRAVID  2007-08-07 00:08:00   \n",
       "2007    34            4XX W 127TH      4  T135       CDC  2007-08-24 00:08:00   \n",
       "...    ...                    ...    ...   ...       ...                  ...   \n",
       "2019    32  100XX W OHARE AIRPORT    100  T913    GRAVID  2019-08-08 00:08:00   \n",
       "2019    33  100XX W OHARE AIRPORT    100  T913    GRAVID  2019-08-15 00:08:00   \n",
       "2019    27  100XX W OHARE AIRPORT    100  T905    GRAVID  2019-07-03 00:07:00   \n",
       "2019    27  100XX W OHARE AIRPORT    100  T905    GRAVID  2019-07-03 00:07:00   \n",
       "2019    33          100XX W OHARE    100  T903    GRAVID  2019-08-15 00:08:00   \n",
       "\n",
       "      Mosquito number Mosquito ID WNV Present         Species  Lat  Lon  \n",
       "Year                                                                     \n",
       "2007               10         Pip    positive   CULEX PIPIENS  NaN  NaN  \n",
       "2007               14         Pip    positive   CULEX PIPIENS  NaN  NaN  \n",
       "2007               14         Pip    positive   CULEX PIPIENS  NaN  NaN  \n",
       "2007               29         Pip    positive   CULEX PIPIENS  NaN  NaN  \n",
       "2007               50         Pip    positive   CULEX PIPIENS  NaN  NaN  \n",
       "...               ...         ...         ...             ...  ...  ...  \n",
       "2019                8         Res    positive  CULEX RESTUANS  NaN  NaN  \n",
       "2019               15         Res    positive  CULEX RESTUANS  NaN  NaN  \n",
       "2019                4         Res    positive  CULEX RESTUANS  NaN  NaN  \n",
       "2019                4         Res    positive  CULEX RESTUANS  NaN  NaN  \n",
       "2019                3         Res    positive  CULEX RESTUANS  NaN  NaN  \n",
       "\n",
       "[658 rows x 12 columns]"
      ]
     },
     "execution_count": 166,
     "metadata": {},
     "output_type": "execute_result"
    }
   ],
   "source": [
    "# Get rid of the duplicated row,\n",
    "# but first check what is in them \n",
    "# Check if there is any pattern being duplicated\n",
    "\n",
    "mosquito_data.loc[mosquito_data.duplicated(), :].sort_values('Year')"
   ]
  },
  {
   "cell_type": "markdown",
   "metadata": {},
   "source": [
    "- There is a pattern among the duplicates.\n",
    "- What all duplicates have in common is including 'WNV Present', 'Lat', and 'Lon'.\n",
    "- However, there is NaN in 'Lat' and 'Lon' which means there is no value."
   ]
  },
  {
   "cell_type": "code",
   "execution_count": 167,
   "metadata": {},
   "outputs": [],
   "source": [
    "# Assign the dataframe to 'mdf'\n",
    "\n",
    "mdf = mosquito_data.drop_duplicates()"
   ]
  },
  {
   "cell_type": "code",
   "execution_count": 168,
   "metadata": {},
   "outputs": [
    {
     "data": {
      "text/plain": [
       "(17837, 12)"
      ]
     },
     "execution_count": 168,
     "metadata": {},
     "output_type": "execute_result"
    }
   ],
   "source": [
    "# Shape of the clean dataframe\n",
    "\n",
    "mdf.shape"
   ]
  },
  {
   "cell_type": "markdown",
   "metadata": {},
   "source": [
    "- The shape of the clean dataframe is (17837, 12)."
   ]
  },
  {
   "cell_type": "code",
   "execution_count": 169,
   "metadata": {
    "scrolled": true
   },
   "outputs": [
    {
     "data": {
      "text/plain": [
       "Week               False\n",
       "Address Block      False\n",
       "Block              False\n",
       "Trap               False\n",
       "Trap type          False\n",
       "Date               False\n",
       "Mosquito number    False\n",
       "Mosquito ID        False\n",
       "WNV Present        False\n",
       "Species            False\n",
       "Lat                False\n",
       "Lon                False\n",
       "dtype: bool"
      ]
     },
     "execution_count": 169,
     "metadata": {},
     "output_type": "execute_result"
    }
   ],
   "source": [
    "# Checking if there is any duplicate in columns\n",
    "\n",
    "mdf.T.duplicated()"
   ]
  },
  {
   "cell_type": "markdown",
   "metadata": {},
   "source": [
    "#### Find out if there is missing value"
   ]
  },
  {
   "cell_type": "code",
   "execution_count": 180,
   "metadata": {
    "scrolled": false
   },
   "outputs": [
    {
     "data": {
      "text/plain": [
       "Week                  0\n",
       "Address Block         0\n",
       "Block                 0\n",
       "Trap                  0\n",
       "Trap type             0\n",
       "Date                  0\n",
       "Mosquito number       0\n",
       "Mosquito ID           0\n",
       "WNV Present           0\n",
       "Species               0\n",
       "Lat                2266\n",
       "Lon                2266\n",
       "dtype: int64"
      ]
     },
     "execution_count": 180,
     "metadata": {},
     "output_type": "execute_result"
    }
   ],
   "source": [
    "# Check if there is any missing value\n",
    "\n",
    "mdf.isna().sum()"
   ]
  },
  {
   "cell_type": "markdown",
   "metadata": {},
   "source": [
    "- There are some missing values in 'Lat' and 'Lon'."
   ]
  },
  {
   "cell_type": "code",
   "execution_count": 181,
   "metadata": {},
   "outputs": [
    {
     "data": {
      "text/plain": [
       "Week                0.00000\n",
       "Address Block       0.00000\n",
       "Block               0.00000\n",
       "Trap                0.00000\n",
       "Trap type           0.00000\n",
       "Date                0.00000\n",
       "Mosquito number     0.00000\n",
       "Mosquito ID         0.00000\n",
       "WNV Present         0.00000\n",
       "Species             0.00000\n",
       "Lat                12.70393\n",
       "Lon                12.70393\n",
       "dtype: float64"
      ]
     },
     "execution_count": 181,
     "metadata": {},
     "output_type": "execute_result"
    }
   ],
   "source": [
    "# Calculate the proportion of missing values\n",
    "\n",
    "(mdf.isna().sum() / mdf.shape[0]) * 100"
   ]
  },
  {
   "cell_type": "markdown",
   "metadata": {},
   "source": [
    "#### Clean 'Lat' column"
   ]
  },
  {
   "cell_type": "code",
   "execution_count": 182,
   "metadata": {
    "scrolled": true
   },
   "outputs": [
    {
     "data": {
      "text/plain": [
       "count    15571.000000\n",
       "mean        41.839963\n",
       "std          0.111374\n",
       "min         41.644720\n",
       "25%         41.742670\n",
       "50%         41.845715\n",
       "75%         41.945961\n",
       "max         42.017801\n",
       "Name: Lat, dtype: float64"
      ]
     },
     "execution_count": 182,
     "metadata": {},
     "output_type": "execute_result"
    }
   ],
   "source": [
    "# Get the statistics for 'Lat'\n",
    "\n",
    "mdf['Lat'].describe()"
   ]
  },
  {
   "cell_type": "code",
   "execution_count": 197,
   "metadata": {},
   "outputs": [
    {
     "data": {
      "image/png": "[encoded data removed]",
      "text/plain": [
       "<Figure size 640x480 with 1 Axes>"
      ]
     },
     "metadata": {},
     "output_type": "display_data"
    }
   ],
   "source": [
    "# Plot a histogram for 'Lat'\n",
    "\n",
    "plt.figure()\n",
    "\n",
    "plt.hist(mdf['Lat'])\n",
    "plt.xlabel('Lat')\n",
    "plt.ylabel('Count')\n",
    "plt.axvline(mdf['Lat'].mean(), label = 'mean', c = 'r')\n",
    "plt.axvline(mdf['Lat'].median(), label = 'median', c = 'r', linestyle = '--')\n",
    "\n",
    "plt.legend()\n",
    "plt.show()"
   ]
  },
  {
   "cell_type": "code",
   "execution_count": 185,
   "metadata": {},
   "outputs": [
    {
     "data": {
      "text/plain": [
       "41.956298856"
      ]
     },
     "execution_count": 185,
     "metadata": {},
     "output_type": "execute_result"
    }
   ],
   "source": [
    "# Get mode of 'Lat'\n",
    "\n",
    "lat_mode = mdf['Lat'].mode()[0]\n",
    "\n",
    "lat_mode"
   ]
  },
  {
   "cell_type": "code",
   "execution_count": 186,
   "metadata": {},
   "outputs": [
    {
     "name": "stderr",
     "output_type": "stream",
     "text": [
      "/var/folders/3r/xt5d5yjn5vj2x8xpx00xsy4c0000gn/T/ipykernel_2092/2885193029.py:3: SettingWithCopyWarning: \n",
      "A value is trying to be set on a copy of a slice from a DataFrame.\n",
      "Try using .loc[row_indexer,col_indexer] = value instead\n",
      "\n",
      "See the caveats in the documentation: https://pandas.pydata.org/pandas-docs/stable/user_guide/indexing.html#returning-a-view-versus-a-copy\n",
      "  mdf.loc[:, 'Lat'] = mdf.loc[:,'Lat'].fillna(lat_mode)\n"
     ]
    }
   ],
   "source": [
    "# Fill the missing values with mode\n",
    "\n",
    "mdf.loc[:, 'Lat'] = mdf.loc[:,'Lat'].fillna(lat_mode)"
   ]
  },
  {
   "cell_type": "code",
   "execution_count": 187,
   "metadata": {},
   "outputs": [
    {
     "data": {
      "text/plain": [
       "0"
      ]
     },
     "execution_count": 187,
     "metadata": {},
     "output_type": "execute_result"
    }
   ],
   "source": [
    "# Sanity check\n",
    "\n",
    "mdf['Lat'].isna().sum()"
   ]
  },
  {
   "cell_type": "code",
   "execution_count": 188,
   "metadata": {
    "scrolled": true
   },
   "outputs": [
    {
     "data": {
      "text/plain": [
       "Week                  0\n",
       "Address Block         0\n",
       "Block                 0\n",
       "Trap                  0\n",
       "Trap type             0\n",
       "Date                  0\n",
       "Mosquito number       0\n",
       "Mosquito ID           0\n",
       "WNV Present           0\n",
       "Species               0\n",
       "Lat                   0\n",
       "Lon                2266\n",
       "dtype: int64"
      ]
     },
     "execution_count": 188,
     "metadata": {},
     "output_type": "execute_result"
    }
   ],
   "source": [
    "# Check if there is any missing value\n",
    "\n",
    "mdf.isna().sum()"
   ]
  },
  {
   "cell_type": "markdown",
   "metadata": {},
   "source": [
    "- There are some missing values in 'Lon'."
   ]
  },
  {
   "cell_type": "code",
   "execution_count": 25,
   "metadata": {},
   "outputs": [
    {
     "data": {
      "text/html": [
       "<div>\n",
       "<style scoped>\n",
       "    .dataframe tbody tr th:only-of-type {\n",
       "        vertical-align: middle;\n",
       "    }\n",
       "\n",
       "    .dataframe tbody tr th {\n",
       "        vertical-align: top;\n",
       "    }\n",
       "\n",
       "    .dataframe thead th {\n",
       "        text-align: right;\n",
       "    }\n",
       "</style>\n",
       "<table border=\"1\" class=\"dataframe\">\n",
       "  <thead>\n",
       "    <tr style=\"text-align: right;\">\n",
       "      <th></th>\n",
       "      <th>Week</th>\n",
       "      <th>Address Block</th>\n",
       "      <th>Block</th>\n",
       "      <th>Trap</th>\n",
       "      <th>Trap type</th>\n",
       "      <th>Date</th>\n",
       "      <th>Mosquito number</th>\n",
       "      <th>Mosquito ID</th>\n",
       "      <th>WNV Present</th>\n",
       "      <th>Species</th>\n",
       "      <th>Lat</th>\n",
       "      <th>Lon</th>\n",
       "    </tr>\n",
       "    <tr>\n",
       "      <th>Year</th>\n",
       "      <th></th>\n",
       "      <th></th>\n",
       "      <th></th>\n",
       "      <th></th>\n",
       "      <th></th>\n",
       "      <th></th>\n",
       "      <th></th>\n",
       "      <th></th>\n",
       "      <th></th>\n",
       "      <th></th>\n",
       "      <th></th>\n",
       "      <th></th>\n",
       "    </tr>\n",
       "  </thead>\n",
       "  <tbody>\n",
       "    <tr>\n",
       "      <th>2019</th>\n",
       "      <td>39</td>\n",
       "      <td>100XX W OHARE AIRPORT</td>\n",
       "      <td>100</td>\n",
       "      <td>T910</td>\n",
       "      <td>GRAVID</td>\n",
       "      <td>2019-09-26 00:09:00</td>\n",
       "      <td>2</td>\n",
       "      <td>Res</td>\n",
       "      <td>negative</td>\n",
       "      <td>CULEX RESTUANS</td>\n",
       "      <td>41.956299</td>\n",
       "      <td>NaN</td>\n",
       "    </tr>\n",
       "    <tr>\n",
       "      <th>2019</th>\n",
       "      <td>39</td>\n",
       "      <td>52XX S KOLMAR AVE</td>\n",
       "      <td>52</td>\n",
       "      <td>T114</td>\n",
       "      <td>GRAVID</td>\n",
       "      <td>2019-09-26 00:09:00</td>\n",
       "      <td>1</td>\n",
       "      <td>Res</td>\n",
       "      <td>negative</td>\n",
       "      <td>CULEX RESTUANS</td>\n",
       "      <td>41.798211</td>\n",
       "      <td>-87.736925</td>\n",
       "    </tr>\n",
       "    <tr>\n",
       "      <th>2019</th>\n",
       "      <td>39</td>\n",
       "      <td>58XX N WESTERN AVE</td>\n",
       "      <td>58</td>\n",
       "      <td>T028</td>\n",
       "      <td>GRAVID</td>\n",
       "      <td>2019-09-26 00:09:00</td>\n",
       "      <td>2</td>\n",
       "      <td>Res</td>\n",
       "      <td>negative</td>\n",
       "      <td>CULEX RESTUANS</td>\n",
       "      <td>41.987245</td>\n",
       "      <td>-87.689417</td>\n",
       "    </tr>\n",
       "    <tr>\n",
       "      <th>2019</th>\n",
       "      <td>39</td>\n",
       "      <td>39XX N SPRINGFIELD AVE</td>\n",
       "      <td>39</td>\n",
       "      <td>T228</td>\n",
       "      <td>GRAVID</td>\n",
       "      <td>2019-09-26 00:09:00</td>\n",
       "      <td>1</td>\n",
       "      <td>Res</td>\n",
       "      <td>negative</td>\n",
       "      <td>CULEX RESTUANS</td>\n",
       "      <td>41.953664</td>\n",
       "      <td>-87.724987</td>\n",
       "    </tr>\n",
       "    <tr>\n",
       "      <th>2019</th>\n",
       "      <td>39</td>\n",
       "      <td>131XX S BRANDON AVE</td>\n",
       "      <td>131</td>\n",
       "      <td>T209</td>\n",
       "      <td>GRAVID</td>\n",
       "      <td>2019-09-26 00:09:00</td>\n",
       "      <td>9</td>\n",
       "      <td>Res</td>\n",
       "      <td>negative</td>\n",
       "      <td>CULEX RESTUANS</td>\n",
       "      <td>41.657069</td>\n",
       "      <td>-87.546049</td>\n",
       "    </tr>\n",
       "  </tbody>\n",
       "</table>\n",
       "</div>"
      ],
      "text/plain": [
       "      Week           Address Block  Block  Trap Trap type  \\\n",
       "Year                                                        \n",
       "2019    39   100XX W OHARE AIRPORT    100  T910    GRAVID   \n",
       "2019    39       52XX S KOLMAR AVE     52  T114    GRAVID   \n",
       "2019    39      58XX N WESTERN AVE     58  T028    GRAVID   \n",
       "2019    39  39XX N SPRINGFIELD AVE     39  T228    GRAVID   \n",
       "2019    39     131XX S BRANDON AVE    131  T209    GRAVID   \n",
       "\n",
       "                     Date  Mosquito number Mosquito ID WNV Present  \\\n",
       "Year                                                                 \n",
       "2019  2019-09-26 00:09:00                2         Res    negative   \n",
       "2019  2019-09-26 00:09:00                1         Res    negative   \n",
       "2019  2019-09-26 00:09:00                2         Res    negative   \n",
       "2019  2019-09-26 00:09:00                1         Res    negative   \n",
       "2019  2019-09-26 00:09:00                9         Res    negative   \n",
       "\n",
       "             Species        Lat        Lon  \n",
       "Year                                        \n",
       "2019  CULEX RESTUANS  41.956299        NaN  \n",
       "2019  CULEX RESTUANS  41.798211 -87.736925  \n",
       "2019  CULEX RESTUANS  41.987245 -87.689417  \n",
       "2019  CULEX RESTUANS  41.953664 -87.724987  \n",
       "2019  CULEX RESTUANS  41.657069 -87.546049  "
      ]
     },
     "execution_count": 25,
     "metadata": {},
     "output_type": "execute_result"
    }
   ],
   "source": [
    "mdf.head()"
   ]
  },
  {
   "cell_type": "markdown",
   "metadata": {},
   "source": [
    "#### Clean 'Lon' column"
   ]
  },
  {
   "cell_type": "code",
   "execution_count": 189,
   "metadata": {
    "scrolled": false
   },
   "outputs": [
    {
     "data": {
      "text/plain": [
       "count    15571.000000\n",
       "mean       -87.691642\n",
       "std          0.076545\n",
       "min        -87.854473\n",
       "25%        -87.747459\n",
       "50%        -87.691698\n",
       "75%        -87.637873\n",
       "max        -87.531051\n",
       "Name: Lon, dtype: float64"
      ]
     },
     "execution_count": 189,
     "metadata": {},
     "output_type": "execute_result"
    }
   ],
   "source": [
    "# Get the statistics for 'Lon'\n",
    "\n",
    "mdf['Lon'].describe()"
   ]
  },
  {
   "cell_type": "code",
   "execution_count": 196,
   "metadata": {},
   "outputs": [
    {
     "data": {
      "image/png": "[encoded data removed]",
      "text/plain": [
       "<Figure size 640x480 with 1 Axes>"
      ]
     },
     "metadata": {},
     "output_type": "display_data"
    }
   ],
   "source": [
    "# Plot a histogram for 'Lon'\n",
    "\n",
    "plt.figure()\n",
    "\n",
    "plt.hist(mdf['Lon'])\n",
    "plt.xlabel('Lon')\n",
    "plt.ylabel('Count')\n",
    "plt.axvline(mdf['Lon'].mean(), label = 'mean', c = 'r')\n",
    "plt.axvline(mdf['Lon'].median(), label = 'median', c = 'r', linestyle = '--')\n",
    "\n",
    "plt.legend()\n",
    "plt.show()"
   ]
  },
  {
   "cell_type": "code",
   "execution_count": 192,
   "metadata": {},
   "outputs": [
    {
     "data": {
      "text/plain": [
       "-87.797517445"
      ]
     },
     "execution_count": 192,
     "metadata": {},
     "output_type": "execute_result"
    }
   ],
   "source": [
    "# Get mode of 'Lon'\n",
    "\n",
    "lon_mode = mdf['Lon'].mode()[0]\n",
    "\n",
    "lon_mode"
   ]
  },
  {
   "cell_type": "code",
   "execution_count": 193,
   "metadata": {},
   "outputs": [
    {
     "name": "stderr",
     "output_type": "stream",
     "text": [
      "/var/folders/3r/xt5d5yjn5vj2x8xpx00xsy4c0000gn/T/ipykernel_2092/1420073900.py:3: SettingWithCopyWarning: \n",
      "A value is trying to be set on a copy of a slice from a DataFrame.\n",
      "Try using .loc[row_indexer,col_indexer] = value instead\n",
      "\n",
      "See the caveats in the documentation: https://pandas.pydata.org/pandas-docs/stable/user_guide/indexing.html#returning-a-view-versus-a-copy\n",
      "  mdf.loc[:, 'Lon'] = mdf.loc[:,'Lon'].fillna(lon_mode)\n"
     ]
    }
   ],
   "source": [
    "# Fill the missing values with mode\n",
    "\n",
    "mdf.loc[:, 'Lon'] = mdf.loc[:,'Lon'].fillna(lon_mode)"
   ]
  },
  {
   "cell_type": "code",
   "execution_count": 194,
   "metadata": {},
   "outputs": [
    {
     "data": {
      "text/plain": [
       "0"
      ]
     },
     "execution_count": 194,
     "metadata": {},
     "output_type": "execute_result"
    }
   ],
   "source": [
    "# Sanity check\n",
    "\n",
    "mdf['Lon'].isna().sum()"
   ]
  },
  {
   "cell_type": "code",
   "execution_count": 195,
   "metadata": {
    "scrolled": true
   },
   "outputs": [
    {
     "data": {
      "text/plain": [
       "Week               0\n",
       "Address Block      0\n",
       "Block              0\n",
       "Trap               0\n",
       "Trap type          0\n",
       "Date               0\n",
       "Mosquito number    0\n",
       "Mosquito ID        0\n",
       "WNV Present        0\n",
       "Species            0\n",
       "Lat                0\n",
       "Lon                0\n",
       "dtype: int64"
      ]
     },
     "execution_count": 195,
     "metadata": {},
     "output_type": "execute_result"
    }
   ],
   "source": [
    "# Check if there is still any missing value\n",
    "\n",
    "mdf.isna().sum()"
   ]
  },
  {
   "cell_type": "markdown",
   "metadata": {},
   "source": [
    "- There is no missing value."
   ]
  },
  {
   "cell_type": "markdown",
   "metadata": {},
   "source": [
    "#### Convert the 'Date' column to have a datetime format"
   ]
  },
  {
   "cell_type": "code",
   "execution_count": 198,
   "metadata": {},
   "outputs": [
    {
     "data": {
      "text/plain": [
       "Year\n",
       "2016    2016-08-25 00:08:00\n",
       "2014    2014-07-31 00:07:00\n",
       "2009    2009-07-27 00:07:00\n",
       "2012    2012-08-03 00:08:00\n",
       "2016    2016-09-01 00:09:00\n",
       "Name: Date, dtype: object"
      ]
     },
     "execution_count": 198,
     "metadata": {},
     "output_type": "execute_result"
    }
   ],
   "source": [
    "# View sample of 'Date' column\n",
    "\n",
    "mdf['Date'].sample(5)"
   ]
  },
  {
   "cell_type": "markdown",
   "metadata": {},
   "source": [
    "- There is a pattern of 'Date' where the data is shown as 'Test Date - Time'"
   ]
  },
  {
   "cell_type": "code",
   "execution_count": 199,
   "metadata": {},
   "outputs": [
    {
     "data": {
      "text/plain": [
       "Year\n",
       "2019    [2019-09-26, 00:09:00]\n",
       "2019    [2019-09-26, 00:09:00]\n",
       "2019    [2019-09-26, 00:09:00]\n",
       "2019    [2019-09-26, 00:09:00]\n",
       "2019    [2019-09-26, 00:09:00]\n",
       "                 ...          \n",
       "2013    [2013-08-29, 00:08:00]\n",
       "2016    [2016-09-09, 00:09:00]\n",
       "2007    [2007-08-24, 00:08:00]\n",
       "2016    [2016-07-27, 00:07:00]\n",
       "2017    [2017-08-17, 00:08:00]\n",
       "Name: Date, Length: 17837, dtype: object"
      ]
     },
     "execution_count": 199,
     "metadata": {},
     "output_type": "execute_result"
    }
   ],
   "source": [
    "# Identify where to split\n",
    "\n",
    "mdf['Date'].str.split(' ')"
   ]
  },
  {
   "cell_type": "code",
   "execution_count": 200,
   "metadata": {},
   "outputs": [],
   "source": [
    "date_df = mdf['Date'].str.split(' ', expand = True)"
   ]
  },
  {
   "cell_type": "code",
   "execution_count": 201,
   "metadata": {
    "scrolled": true
   },
   "outputs": [
    {
     "data": {
      "text/html": [
       "<div>\n",
       "<style scoped>\n",
       "    .dataframe tbody tr th:only-of-type {\n",
       "        vertical-align: middle;\n",
       "    }\n",
       "\n",
       "    .dataframe tbody tr th {\n",
       "        vertical-align: top;\n",
       "    }\n",
       "\n",
       "    .dataframe thead th {\n",
       "        text-align: right;\n",
       "    }\n",
       "</style>\n",
       "<table border=\"1\" class=\"dataframe\">\n",
       "  <thead>\n",
       "    <tr style=\"text-align: right;\">\n",
       "      <th></th>\n",
       "      <th>0</th>\n",
       "      <th>1</th>\n",
       "    </tr>\n",
       "    <tr>\n",
       "      <th>Year</th>\n",
       "      <th></th>\n",
       "      <th></th>\n",
       "    </tr>\n",
       "  </thead>\n",
       "  <tbody>\n",
       "    <tr>\n",
       "      <th>2019</th>\n",
       "      <td>2019-09-26</td>\n",
       "      <td>00:09:00</td>\n",
       "    </tr>\n",
       "    <tr>\n",
       "      <th>2019</th>\n",
       "      <td>2019-09-26</td>\n",
       "      <td>00:09:00</td>\n",
       "    </tr>\n",
       "    <tr>\n",
       "      <th>2019</th>\n",
       "      <td>2019-09-26</td>\n",
       "      <td>00:09:00</td>\n",
       "    </tr>\n",
       "    <tr>\n",
       "      <th>2019</th>\n",
       "      <td>2019-09-26</td>\n",
       "      <td>00:09:00</td>\n",
       "    </tr>\n",
       "    <tr>\n",
       "      <th>2019</th>\n",
       "      <td>2019-09-26</td>\n",
       "      <td>00:09:00</td>\n",
       "    </tr>\n",
       "  </tbody>\n",
       "</table>\n",
       "</div>"
      ],
      "text/plain": [
       "               0         1\n",
       "Year                      \n",
       "2019  2019-09-26  00:09:00\n",
       "2019  2019-09-26  00:09:00\n",
       "2019  2019-09-26  00:09:00\n",
       "2019  2019-09-26  00:09:00\n",
       "2019  2019-09-26  00:09:00"
      ]
     },
     "execution_count": 201,
     "metadata": {},
     "output_type": "execute_result"
    }
   ],
   "source": [
    "date_df.head()"
   ]
  },
  {
   "cell_type": "code",
   "execution_count": 202,
   "metadata": {},
   "outputs": [],
   "source": [
    "# Rename the columns to 'Test Date' and 'Time'\n",
    "\n",
    "date_df = date_df.rename(columns = {0:'Test Date', 1:'Time'})"
   ]
  },
  {
   "cell_type": "code",
   "execution_count": 203,
   "metadata": {},
   "outputs": [
    {
     "data": {
      "text/html": [
       "<div>\n",
       "<style scoped>\n",
       "    .dataframe tbody tr th:only-of-type {\n",
       "        vertical-align: middle;\n",
       "    }\n",
       "\n",
       "    .dataframe tbody tr th {\n",
       "        vertical-align: top;\n",
       "    }\n",
       "\n",
       "    .dataframe thead th {\n",
       "        text-align: right;\n",
       "    }\n",
       "</style>\n",
       "<table border=\"1\" class=\"dataframe\">\n",
       "  <thead>\n",
       "    <tr style=\"text-align: right;\">\n",
       "      <th></th>\n",
       "      <th>Test Date</th>\n",
       "      <th>Time</th>\n",
       "    </tr>\n",
       "    <tr>\n",
       "      <th>Year</th>\n",
       "      <th></th>\n",
       "      <th></th>\n",
       "    </tr>\n",
       "  </thead>\n",
       "  <tbody>\n",
       "    <tr>\n",
       "      <th>2019</th>\n",
       "      <td>2019-09-26</td>\n",
       "      <td>00:09:00</td>\n",
       "    </tr>\n",
       "    <tr>\n",
       "      <th>2019</th>\n",
       "      <td>2019-09-26</td>\n",
       "      <td>00:09:00</td>\n",
       "    </tr>\n",
       "    <tr>\n",
       "      <th>2019</th>\n",
       "      <td>2019-09-26</td>\n",
       "      <td>00:09:00</td>\n",
       "    </tr>\n",
       "    <tr>\n",
       "      <th>2019</th>\n",
       "      <td>2019-09-26</td>\n",
       "      <td>00:09:00</td>\n",
       "    </tr>\n",
       "    <tr>\n",
       "      <th>2019</th>\n",
       "      <td>2019-09-26</td>\n",
       "      <td>00:09:00</td>\n",
       "    </tr>\n",
       "  </tbody>\n",
       "</table>\n",
       "</div>"
      ],
      "text/plain": [
       "       Test Date      Time\n",
       "Year                      \n",
       "2019  2019-09-26  00:09:00\n",
       "2019  2019-09-26  00:09:00\n",
       "2019  2019-09-26  00:09:00\n",
       "2019  2019-09-26  00:09:00\n",
       "2019  2019-09-26  00:09:00"
      ]
     },
     "execution_count": 203,
     "metadata": {},
     "output_type": "execute_result"
    }
   ],
   "source": [
    "# Check if the column names changed\n",
    "\n",
    "date_df.head()"
   ]
  },
  {
   "cell_type": "code",
   "execution_count": 204,
   "metadata": {},
   "outputs": [],
   "source": [
    "# Use these outputs to reinject Test Date and Time info into clean_data\n",
    "\n",
    "mdf = pd.concat([mdf, date_df], axis = 1)"
   ]
  },
  {
   "cell_type": "code",
   "execution_count": 205,
   "metadata": {},
   "outputs": [
    {
     "data": {
      "text/html": [
       "<div>\n",
       "<style scoped>\n",
       "    .dataframe tbody tr th:only-of-type {\n",
       "        vertical-align: middle;\n",
       "    }\n",
       "\n",
       "    .dataframe tbody tr th {\n",
       "        vertical-align: top;\n",
       "    }\n",
       "\n",
       "    .dataframe thead th {\n",
       "        text-align: right;\n",
       "    }\n",
       "</style>\n",
       "<table border=\"1\" class=\"dataframe\">\n",
       "  <thead>\n",
       "    <tr style=\"text-align: right;\">\n",
       "      <th></th>\n",
       "      <th>Week</th>\n",
       "      <th>Address Block</th>\n",
       "      <th>Block</th>\n",
       "      <th>Trap</th>\n",
       "      <th>Trap type</th>\n",
       "      <th>Date</th>\n",
       "      <th>Mosquito number</th>\n",
       "      <th>Mosquito ID</th>\n",
       "      <th>WNV Present</th>\n",
       "      <th>Species</th>\n",
       "      <th>Lat</th>\n",
       "      <th>Lon</th>\n",
       "      <th>Test Date</th>\n",
       "      <th>Time</th>\n",
       "    </tr>\n",
       "    <tr>\n",
       "      <th>Year</th>\n",
       "      <th></th>\n",
       "      <th></th>\n",
       "      <th></th>\n",
       "      <th></th>\n",
       "      <th></th>\n",
       "      <th></th>\n",
       "      <th></th>\n",
       "      <th></th>\n",
       "      <th></th>\n",
       "      <th></th>\n",
       "      <th></th>\n",
       "      <th></th>\n",
       "      <th></th>\n",
       "      <th></th>\n",
       "    </tr>\n",
       "  </thead>\n",
       "  <tbody>\n",
       "    <tr>\n",
       "      <th>2019</th>\n",
       "      <td>39</td>\n",
       "      <td>100XX W OHARE AIRPORT</td>\n",
       "      <td>100</td>\n",
       "      <td>T910</td>\n",
       "      <td>GRAVID</td>\n",
       "      <td>2019-09-26 00:09:00</td>\n",
       "      <td>2</td>\n",
       "      <td>Res</td>\n",
       "      <td>negative</td>\n",
       "      <td>CULEX RESTUANS</td>\n",
       "      <td>41.956299</td>\n",
       "      <td>-87.797517</td>\n",
       "      <td>2019-09-26</td>\n",
       "      <td>00:09:00</td>\n",
       "    </tr>\n",
       "    <tr>\n",
       "      <th>2019</th>\n",
       "      <td>39</td>\n",
       "      <td>52XX S KOLMAR AVE</td>\n",
       "      <td>52</td>\n",
       "      <td>T114</td>\n",
       "      <td>GRAVID</td>\n",
       "      <td>2019-09-26 00:09:00</td>\n",
       "      <td>1</td>\n",
       "      <td>Res</td>\n",
       "      <td>negative</td>\n",
       "      <td>CULEX RESTUANS</td>\n",
       "      <td>41.798211</td>\n",
       "      <td>-87.736925</td>\n",
       "      <td>2019-09-26</td>\n",
       "      <td>00:09:00</td>\n",
       "    </tr>\n",
       "    <tr>\n",
       "      <th>2019</th>\n",
       "      <td>39</td>\n",
       "      <td>58XX N WESTERN AVE</td>\n",
       "      <td>58</td>\n",
       "      <td>T028</td>\n",
       "      <td>GRAVID</td>\n",
       "      <td>2019-09-26 00:09:00</td>\n",
       "      <td>2</td>\n",
       "      <td>Res</td>\n",
       "      <td>negative</td>\n",
       "      <td>CULEX RESTUANS</td>\n",
       "      <td>41.987245</td>\n",
       "      <td>-87.689417</td>\n",
       "      <td>2019-09-26</td>\n",
       "      <td>00:09:00</td>\n",
       "    </tr>\n",
       "    <tr>\n",
       "      <th>2019</th>\n",
       "      <td>39</td>\n",
       "      <td>39XX N SPRINGFIELD AVE</td>\n",
       "      <td>39</td>\n",
       "      <td>T228</td>\n",
       "      <td>GRAVID</td>\n",
       "      <td>2019-09-26 00:09:00</td>\n",
       "      <td>1</td>\n",
       "      <td>Res</td>\n",
       "      <td>negative</td>\n",
       "      <td>CULEX RESTUANS</td>\n",
       "      <td>41.953664</td>\n",
       "      <td>-87.724987</td>\n",
       "      <td>2019-09-26</td>\n",
       "      <td>00:09:00</td>\n",
       "    </tr>\n",
       "    <tr>\n",
       "      <th>2019</th>\n",
       "      <td>39</td>\n",
       "      <td>131XX S BRANDON AVE</td>\n",
       "      <td>131</td>\n",
       "      <td>T209</td>\n",
       "      <td>GRAVID</td>\n",
       "      <td>2019-09-26 00:09:00</td>\n",
       "      <td>9</td>\n",
       "      <td>Res</td>\n",
       "      <td>negative</td>\n",
       "      <td>CULEX RESTUANS</td>\n",
       "      <td>41.657069</td>\n",
       "      <td>-87.546049</td>\n",
       "      <td>2019-09-26</td>\n",
       "      <td>00:09:00</td>\n",
       "    </tr>\n",
       "  </tbody>\n",
       "</table>\n",
       "</div>"
      ],
      "text/plain": [
       "      Week           Address Block  Block  Trap Trap type  \\\n",
       "Year                                                        \n",
       "2019    39   100XX W OHARE AIRPORT    100  T910    GRAVID   \n",
       "2019    39       52XX S KOLMAR AVE     52  T114    GRAVID   \n",
       "2019    39      58XX N WESTERN AVE     58  T028    GRAVID   \n",
       "2019    39  39XX N SPRINGFIELD AVE     39  T228    GRAVID   \n",
       "2019    39     131XX S BRANDON AVE    131  T209    GRAVID   \n",
       "\n",
       "                     Date  Mosquito number Mosquito ID WNV Present  \\\n",
       "Year                                                                 \n",
       "2019  2019-09-26 00:09:00                2         Res    negative   \n",
       "2019  2019-09-26 00:09:00                1         Res    negative   \n",
       "2019  2019-09-26 00:09:00                2         Res    negative   \n",
       "2019  2019-09-26 00:09:00                1         Res    negative   \n",
       "2019  2019-09-26 00:09:00                9         Res    negative   \n",
       "\n",
       "             Species        Lat        Lon   Test Date      Time  \n",
       "Year                                                              \n",
       "2019  CULEX RESTUANS  41.956299 -87.797517  2019-09-26  00:09:00  \n",
       "2019  CULEX RESTUANS  41.798211 -87.736925  2019-09-26  00:09:00  \n",
       "2019  CULEX RESTUANS  41.987245 -87.689417  2019-09-26  00:09:00  \n",
       "2019  CULEX RESTUANS  41.953664 -87.724987  2019-09-26  00:09:00  \n",
       "2019  CULEX RESTUANS  41.657069 -87.546049  2019-09-26  00:09:00  "
      ]
     },
     "execution_count": 205,
     "metadata": {},
     "output_type": "execute_result"
    }
   ],
   "source": [
    "# Sanity check\n",
    "\n",
    "mdf.head()"
   ]
  },
  {
   "cell_type": "code",
   "execution_count": 206,
   "metadata": {},
   "outputs": [],
   "source": [
    "# Drop 'Date' column\n",
    "\n",
    "mdf = mdf.drop(columns = 'Date')"
   ]
  },
  {
   "cell_type": "code",
   "execution_count": 207,
   "metadata": {},
   "outputs": [
    {
     "data": {
      "text/html": [
       "<div>\n",
       "<style scoped>\n",
       "    .dataframe tbody tr th:only-of-type {\n",
       "        vertical-align: middle;\n",
       "    }\n",
       "\n",
       "    .dataframe tbody tr th {\n",
       "        vertical-align: top;\n",
       "    }\n",
       "\n",
       "    .dataframe thead th {\n",
       "        text-align: right;\n",
       "    }\n",
       "</style>\n",
       "<table border=\"1\" class=\"dataframe\">\n",
       "  <thead>\n",
       "    <tr style=\"text-align: right;\">\n",
       "      <th></th>\n",
       "      <th>Week</th>\n",
       "      <th>Address Block</th>\n",
       "      <th>Block</th>\n",
       "      <th>Trap</th>\n",
       "      <th>Trap type</th>\n",
       "      <th>Mosquito number</th>\n",
       "      <th>Mosquito ID</th>\n",
       "      <th>WNV Present</th>\n",
       "      <th>Species</th>\n",
       "      <th>Lat</th>\n",
       "      <th>Lon</th>\n",
       "      <th>Test Date</th>\n",
       "      <th>Time</th>\n",
       "    </tr>\n",
       "    <tr>\n",
       "      <th>Year</th>\n",
       "      <th></th>\n",
       "      <th></th>\n",
       "      <th></th>\n",
       "      <th></th>\n",
       "      <th></th>\n",
       "      <th></th>\n",
       "      <th></th>\n",
       "      <th></th>\n",
       "      <th></th>\n",
       "      <th></th>\n",
       "      <th></th>\n",
       "      <th></th>\n",
       "      <th></th>\n",
       "    </tr>\n",
       "  </thead>\n",
       "  <tbody>\n",
       "    <tr>\n",
       "      <th>2019</th>\n",
       "      <td>39</td>\n",
       "      <td>100XX W OHARE AIRPORT</td>\n",
       "      <td>100</td>\n",
       "      <td>T910</td>\n",
       "      <td>GRAVID</td>\n",
       "      <td>2</td>\n",
       "      <td>Res</td>\n",
       "      <td>negative</td>\n",
       "      <td>CULEX RESTUANS</td>\n",
       "      <td>41.956299</td>\n",
       "      <td>-87.797517</td>\n",
       "      <td>2019-09-26</td>\n",
       "      <td>00:09:00</td>\n",
       "    </tr>\n",
       "    <tr>\n",
       "      <th>2019</th>\n",
       "      <td>39</td>\n",
       "      <td>52XX S KOLMAR AVE</td>\n",
       "      <td>52</td>\n",
       "      <td>T114</td>\n",
       "      <td>GRAVID</td>\n",
       "      <td>1</td>\n",
       "      <td>Res</td>\n",
       "      <td>negative</td>\n",
       "      <td>CULEX RESTUANS</td>\n",
       "      <td>41.798211</td>\n",
       "      <td>-87.736925</td>\n",
       "      <td>2019-09-26</td>\n",
       "      <td>00:09:00</td>\n",
       "    </tr>\n",
       "    <tr>\n",
       "      <th>2019</th>\n",
       "      <td>39</td>\n",
       "      <td>58XX N WESTERN AVE</td>\n",
       "      <td>58</td>\n",
       "      <td>T028</td>\n",
       "      <td>GRAVID</td>\n",
       "      <td>2</td>\n",
       "      <td>Res</td>\n",
       "      <td>negative</td>\n",
       "      <td>CULEX RESTUANS</td>\n",
       "      <td>41.987245</td>\n",
       "      <td>-87.689417</td>\n",
       "      <td>2019-09-26</td>\n",
       "      <td>00:09:00</td>\n",
       "    </tr>\n",
       "    <tr>\n",
       "      <th>2019</th>\n",
       "      <td>39</td>\n",
       "      <td>39XX N SPRINGFIELD AVE</td>\n",
       "      <td>39</td>\n",
       "      <td>T228</td>\n",
       "      <td>GRAVID</td>\n",
       "      <td>1</td>\n",
       "      <td>Res</td>\n",
       "      <td>negative</td>\n",
       "      <td>CULEX RESTUANS</td>\n",
       "      <td>41.953664</td>\n",
       "      <td>-87.724987</td>\n",
       "      <td>2019-09-26</td>\n",
       "      <td>00:09:00</td>\n",
       "    </tr>\n",
       "    <tr>\n",
       "      <th>2019</th>\n",
       "      <td>39</td>\n",
       "      <td>131XX S BRANDON AVE</td>\n",
       "      <td>131</td>\n",
       "      <td>T209</td>\n",
       "      <td>GRAVID</td>\n",
       "      <td>9</td>\n",
       "      <td>Res</td>\n",
       "      <td>negative</td>\n",
       "      <td>CULEX RESTUANS</td>\n",
       "      <td>41.657069</td>\n",
       "      <td>-87.546049</td>\n",
       "      <td>2019-09-26</td>\n",
       "      <td>00:09:00</td>\n",
       "    </tr>\n",
       "  </tbody>\n",
       "</table>\n",
       "</div>"
      ],
      "text/plain": [
       "      Week           Address Block  Block  Trap Trap type  Mosquito number  \\\n",
       "Year                                                                         \n",
       "2019    39   100XX W OHARE AIRPORT    100  T910    GRAVID                2   \n",
       "2019    39       52XX S KOLMAR AVE     52  T114    GRAVID                1   \n",
       "2019    39      58XX N WESTERN AVE     58  T028    GRAVID                2   \n",
       "2019    39  39XX N SPRINGFIELD AVE     39  T228    GRAVID                1   \n",
       "2019    39     131XX S BRANDON AVE    131  T209    GRAVID                9   \n",
       "\n",
       "     Mosquito ID WNV Present         Species        Lat        Lon  \\\n",
       "Year                                                                 \n",
       "2019         Res    negative  CULEX RESTUANS  41.956299 -87.797517   \n",
       "2019         Res    negative  CULEX RESTUANS  41.798211 -87.736925   \n",
       "2019         Res    negative  CULEX RESTUANS  41.987245 -87.689417   \n",
       "2019         Res    negative  CULEX RESTUANS  41.953664 -87.724987   \n",
       "2019         Res    negative  CULEX RESTUANS  41.657069 -87.546049   \n",
       "\n",
       "       Test Date      Time  \n",
       "Year                        \n",
       "2019  2019-09-26  00:09:00  \n",
       "2019  2019-09-26  00:09:00  \n",
       "2019  2019-09-26  00:09:00  \n",
       "2019  2019-09-26  00:09:00  \n",
       "2019  2019-09-26  00:09:00  "
      ]
     },
     "execution_count": 207,
     "metadata": {},
     "output_type": "execute_result"
    }
   ],
   "source": [
    "# Check if 'Date' column is dropped\n",
    "\n",
    "mdf.head()"
   ]
  },
  {
   "cell_type": "code",
   "execution_count": 208,
   "metadata": {},
   "outputs": [
    {
     "data": {
      "text/plain": [
       "Week               0\n",
       "Address Block      0\n",
       "Block              0\n",
       "Trap               0\n",
       "Trap type          0\n",
       "Mosquito number    0\n",
       "Mosquito ID        0\n",
       "WNV Present        0\n",
       "Species            0\n",
       "Lat                0\n",
       "Lon                0\n",
       "Test Date          0\n",
       "Time               0\n",
       "dtype: int64"
      ]
     },
     "execution_count": 208,
     "metadata": {},
     "output_type": "execute_result"
    }
   ],
   "source": [
    "# Check if there is any missing value in the new columns\n",
    "\n",
    "mdf.isna().sum()"
   ]
  },
  {
   "cell_type": "code",
   "execution_count": 209,
   "metadata": {},
   "outputs": [
    {
     "data": {
      "text/plain": [
       "array(['2019-09-26', '2019-09-19', '2019-09-12', '2019-09-05',\n",
       "       '2019-08-29', '2019-08-22', '2019-08-15', '2019-08-08',\n",
       "       '2019-08-01', '2019-07-25', '2019-07-18', '2019-07-12',\n",
       "       '2019-07-11', '2019-07-03', '2019-06-27', '2019-06-21',\n",
       "       '2019-06-20', '2019-06-14', '2019-06-13', '2019-06-12',\n",
       "       '2018-09-27', '2018-09-20', '2018-09-13', '2018-09-06',\n",
       "       '2018-08-30', '2018-08-23', '2018-08-16', '2018-08-09',\n",
       "       '2018-08-02', '2018-07-26', '2018-07-19', '2018-07-12',\n",
       "       '2018-07-05', '2018-06-29', '2018-06-28', '2018-06-21',\n",
       "       '2018-06-14', '2018-06-08', '2017-09-28', '2017-09-21',\n",
       "       '2017-09-14', '2017-09-08', '2017-08-31', '2017-08-24',\n",
       "       '2017-08-17', '2017-08-10', '2017-08-03', '2017-07-27',\n",
       "       '2017-07-20', '2017-07-14', '2017-06-29', '2017-06-22',\n",
       "       '2017-06-19', '2017-06-16', '2016-09-29', '2016-09-23',\n",
       "       '2016-09-22', '2016-09-15', '2016-09-09', '2016-09-08',\n",
       "       '2016-09-01', '2016-08-25', '2016-08-19', '2016-08-18',\n",
       "       '2016-08-11', '2016-08-04', '2016-07-27', '2016-07-21',\n",
       "       '2016-07-14', '2016-07-08', '2016-07-01', '2016-06-22',\n",
       "       '2016-06-16', '2016-06-09', '2015-09-30', '2015-09-23',\n",
       "       '2015-09-17', '2015-09-10', '2015-09-02', '2015-08-27',\n",
       "       '2015-08-26', '2015-08-20', '2015-08-19', '2015-08-13',\n",
       "       '2015-08-12', '2015-08-06', '2015-07-30', '2015-07-23',\n",
       "       '2015-07-16', '2015-07-09', '2015-07-02', '2015-06-25',\n",
       "       '2015-06-18', '2015-06-11', '2015-06-04', '2014-10-02',\n",
       "       '2014-09-25', '2014-09-18', '2014-09-11', '2014-09-05',\n",
       "       '2014-08-28', '2014-08-21', '2014-08-14', '2014-08-07',\n",
       "       '2014-07-31', '2014-07-24', '2014-07-17', '2014-07-10',\n",
       "       '2014-07-03', '2014-06-26', '2014-06-19', '2014-06-12',\n",
       "       '2014-06-05', '2013-09-26', '2013-09-19', '2013-09-12',\n",
       "       '2013-09-06', '2013-08-29', '2013-08-22', '2013-08-15',\n",
       "       '2013-08-08', '2013-08-01', '2013-07-25', '2013-07-19',\n",
       "       '2013-07-12', '2013-07-08', '2013-06-28', '2013-06-27',\n",
       "       '2013-06-21', '2013-06-14', '2013-06-07', '2012-09-28',\n",
       "       '2012-09-20', '2012-09-13', '2012-09-10', '2012-08-31',\n",
       "       '2012-08-30', '2012-08-24', '2012-08-23', '2012-08-17',\n",
       "       '2012-08-16', '2012-08-10', '2012-08-09', '2012-08-03',\n",
       "       '2012-07-27', '2012-07-20', '2012-07-19', '2012-07-13',\n",
       "       '2012-07-09', '2012-06-29', '2012-06-21', '2012-06-15',\n",
       "       '2012-06-08', '2011-09-30', '2011-09-23', '2011-09-16',\n",
       "       '2011-09-12', '2011-09-02', '2011-09-01', '2011-08-26',\n",
       "       '2011-08-19', '2011-08-12', '2011-08-05', '2011-07-29',\n",
       "       '2011-07-25', '2011-07-15', '2011-07-11', '2011-06-30',\n",
       "       '2011-06-24', '2011-06-17', '2011-06-10', '2010-10-01',\n",
       "       '2010-09-24', '2010-09-23', '2010-09-17', '2010-09-16',\n",
       "       '2010-09-13', '2010-09-10', '2010-09-02', '2010-08-27',\n",
       "       '2010-08-26', '2010-08-20', '2010-08-19', '2010-08-13',\n",
       "       '2010-08-06', '2010-08-05', '2010-07-30', '2010-07-29',\n",
       "       '2010-07-26', '2010-07-23', '2010-07-19', '2010-07-16',\n",
       "       '2010-07-13', '2010-07-12', '2010-07-02', '2010-07-01',\n",
       "       '2010-06-28', '2010-06-25', '2010-06-18', '2010-06-11',\n",
       "       '2010-06-02', '2009-10-01', '2009-09-25', '2009-09-17',\n",
       "       '2009-09-14', '2009-09-03', '2009-08-27', '2009-08-25',\n",
       "       '2009-08-13', '2009-08-07', '2009-07-31', '2009-07-27',\n",
       "       '2009-07-24', '2009-07-17', '2009-07-13', '2009-07-10',\n",
       "       '2009-07-06', '2009-06-29', '2009-06-26', '2009-06-22',\n",
       "       '2009-06-19', '2009-06-15', '2009-06-12', '2009-06-05',\n",
       "       '2009-06-03', '2009-06-02', '2009-05-28', '2008-09-29',\n",
       "       '2008-09-19', '2008-09-15', '2008-09-09', '2008-09-03',\n",
       "       '2008-09-02', '2008-08-26', '2008-08-25', '2008-08-19',\n",
       "       '2008-08-13', '2008-08-12', '2008-08-05', '2008-08-04',\n",
       "       '2008-07-29', '2008-07-28', '2008-07-24', '2008-07-23',\n",
       "       '2008-07-21', '2008-07-14', '2008-07-11', '2008-07-04',\n",
       "       '2008-07-01', '2008-06-24', '2008-06-17', '2008-06-11',\n",
       "       '2007-10-09', '2007-10-04', '2007-09-25', '2007-09-24',\n",
       "       '2007-09-19', '2007-09-18', '2007-09-12', '2007-09-06',\n",
       "       '2007-09-05', '2007-09-04', '2007-08-28', '2007-08-24',\n",
       "       '2007-08-22', '2007-08-21', '2007-08-17', '2007-08-16',\n",
       "       '2007-08-15', '2007-08-09', '2007-08-08', '2007-08-07',\n",
       "       '2007-08-03', '2007-08-02', '2007-08-01', '2007-07-27',\n",
       "       '2007-07-25', '2007-07-19', '2007-07-18', '2007-07-11',\n",
       "       '2007-07-02', '2007-06-29', '2007-06-26', '2007-06-05',\n",
       "       '2007-05-29'], dtype=object)"
      ]
     },
     "execution_count": 209,
     "metadata": {},
     "output_type": "execute_result"
    }
   ],
   "source": [
    "# Check if there is any missing value (or unknown) in 'Test Date'\n",
    "\n",
    "mdf['Test Date'].unique()"
   ]
  },
  {
   "cell_type": "code",
   "execution_count": 210,
   "metadata": {
    "scrolled": true
   },
   "outputs": [
    {
     "data": {
      "text/plain": [
       "2007-08-01    283\n",
       "2016-08-11    220\n",
       "2016-08-04    215\n",
       "2007-08-15    210\n",
       "2014-08-21    209\n",
       "             ... \n",
       "2009-06-22      7\n",
       "2009-06-03      6\n",
       "2010-06-02      5\n",
       "2007-08-03      2\n",
       "2008-07-21      1\n",
       "Name: Test Date, Length: 285, dtype: int64"
      ]
     },
     "execution_count": 210,
     "metadata": {},
     "output_type": "execute_result"
    }
   ],
   "source": [
    "# See what the most and the least occurring Test Date are\n",
    "\n",
    "mdf['Test Date'].value_counts()"
   ]
  },
  {
   "cell_type": "markdown",
   "metadata": {},
   "source": [
    "- There is no missing value or 'unknown' in 'Test Date' column."
   ]
  },
  {
   "cell_type": "code",
   "execution_count": 211,
   "metadata": {},
   "outputs": [
    {
     "data": {
      "text/plain": [
       "array(['00:09:00', '00:08:00', '00:07:00', '00:06:00', '00:10:00',\n",
       "       '00:05:00', '08:08:19', '02:08:57', '02:08:53', '02:08:34',\n",
       "       '02:08:26', '02:08:23', '02:08:08', '11:07:18', '11:07:17',\n",
       "       '03:07:41', '03:07:40', '03:07:33', '02:07:45', '11:06:17',\n",
       "       '04:06:59', '04:06:58', '04:06:56', '04:06:07', '04:06:06'],\n",
       "      dtype=object)"
      ]
     },
     "execution_count": 211,
     "metadata": {},
     "output_type": "execute_result"
    }
   ],
   "source": [
    "# Check if there is any missing value (or unknown) in 'Time'\n",
    "\n",
    "mdf['Time'].unique()"
   ]
  },
  {
   "cell_type": "code",
   "execution_count": 213,
   "metadata": {
    "scrolled": false
   },
   "outputs": [
    {
     "data": {
      "image/png": "[encoded data removed]",
      "text/plain": [
       "<Figure size 640x480 with 1 Axes>"
      ]
     },
     "metadata": {},
     "output_type": "display_data"
    }
   ],
   "source": [
    "# Another way to check if there is any missing value\n",
    "\n",
    "mdf['Time'].value_counts().plot(kind = 'bar');"
   ]
  },
  {
   "cell_type": "markdown",
   "metadata": {},
   "source": [
    "- There is no missing value or 'unknown' in 'Time' column."
   ]
  },
  {
   "cell_type": "code",
   "execution_count": 212,
   "metadata": {},
   "outputs": [
    {
     "data": {
      "text/plain": [
       "00:08:00    6210\n",
       "00:07:00    4764\n",
       "00:09:00    3375\n",
       "00:06:00    2693\n",
       "00:10:00     225\n",
       "02:08:26      60\n",
       "02:08:23      53\n",
       "02:08:34      51\n",
       "02:08:57      50\n",
       "02:08:53      47\n",
       "00:05:00      42\n",
       "02:07:45      37\n",
       "03:07:41      35\n",
       "11:07:18      34\n",
       "03:07:33      32\n",
       "11:06:17      29\n",
       "02:08:08      22\n",
       "08:08:19      21\n",
       "04:06:58      13\n",
       "03:07:40      11\n",
       "04:06:59      10\n",
       "04:06:06       9\n",
       "04:06:56       6\n",
       "04:06:07       5\n",
       "11:07:17       3\n",
       "Name: Time, dtype: int64"
      ]
     },
     "execution_count": 212,
     "metadata": {},
     "output_type": "execute_result"
    }
   ],
   "source": [
    "# See what the most and the least occurring Time are\n",
    "\n",
    "mdf['Time'].value_counts()"
   ]
  },
  {
   "cell_type": "markdown",
   "metadata": {},
   "source": [
    "- The majority of frequency falls into the time between 06:00 to 08:00."
   ]
  },
  {
   "cell_type": "code",
   "execution_count": 94,
   "metadata": {},
   "outputs": [
    {
     "data": {
      "text/plain": [
       "Week               0\n",
       "Address Block      0\n",
       "Block              0\n",
       "Trap               0\n",
       "Trap type          0\n",
       "Mosquito number    0\n",
       "Mosquito ID        0\n",
       "WNV Present        0\n",
       "Lat                0\n",
       "Lon                0\n",
       "Test Date          0\n",
       "Time               0\n",
       "geometry           0\n",
       "dtype: int64"
      ]
     },
     "execution_count": 94,
     "metadata": {},
     "output_type": "execute_result"
    }
   ],
   "source": [
    "# Sanity check\n",
    "\n",
    "mdf.isna().sum()"
   ]
  },
  {
   "cell_type": "code",
   "execution_count": 215,
   "metadata": {},
   "outputs": [
    {
     "data": {
      "text/plain": [
       "0"
      ]
     },
     "execution_count": 215,
     "metadata": {},
     "output_type": "execute_result"
    }
   ],
   "source": [
    "# Check across the table\n",
    "\n",
    "mdf.isna().sum().sum()"
   ]
  },
  {
   "cell_type": "markdown",
   "metadata": {},
   "source": [
    "- There is no more null value."
   ]
  },
  {
   "cell_type": "code",
   "execution_count": 216,
   "metadata": {},
   "outputs": [
    {
     "data": {
      "text/html": [
       "<div>\n",
       "<style scoped>\n",
       "    .dataframe tbody tr th:only-of-type {\n",
       "        vertical-align: middle;\n",
       "    }\n",
       "\n",
       "    .dataframe tbody tr th {\n",
       "        vertical-align: top;\n",
       "    }\n",
       "\n",
       "    .dataframe thead th {\n",
       "        text-align: right;\n",
       "    }\n",
       "</style>\n",
       "<table border=\"1\" class=\"dataframe\">\n",
       "  <thead>\n",
       "    <tr style=\"text-align: right;\">\n",
       "      <th></th>\n",
       "      <th>Week</th>\n",
       "      <th>Address Block</th>\n",
       "      <th>Block</th>\n",
       "      <th>Trap</th>\n",
       "      <th>Trap type</th>\n",
       "      <th>Mosquito number</th>\n",
       "      <th>Mosquito ID</th>\n",
       "      <th>WNV Present</th>\n",
       "      <th>Species</th>\n",
       "      <th>Lat</th>\n",
       "      <th>Lon</th>\n",
       "      <th>Test Date</th>\n",
       "      <th>Time</th>\n",
       "    </tr>\n",
       "    <tr>\n",
       "      <th>Year</th>\n",
       "      <th></th>\n",
       "      <th></th>\n",
       "      <th></th>\n",
       "      <th></th>\n",
       "      <th></th>\n",
       "      <th></th>\n",
       "      <th></th>\n",
       "      <th></th>\n",
       "      <th></th>\n",
       "      <th></th>\n",
       "      <th></th>\n",
       "      <th></th>\n",
       "      <th></th>\n",
       "    </tr>\n",
       "  </thead>\n",
       "  <tbody>\n",
       "    <tr>\n",
       "      <th>2019</th>\n",
       "      <td>39</td>\n",
       "      <td>100XX W OHARE AIRPORT</td>\n",
       "      <td>100</td>\n",
       "      <td>T910</td>\n",
       "      <td>GRAVID</td>\n",
       "      <td>2</td>\n",
       "      <td>Res</td>\n",
       "      <td>negative</td>\n",
       "      <td>CULEX RESTUANS</td>\n",
       "      <td>41.956299</td>\n",
       "      <td>-87.797517</td>\n",
       "      <td>2019-09-26</td>\n",
       "      <td>00:09:00</td>\n",
       "    </tr>\n",
       "    <tr>\n",
       "      <th>2019</th>\n",
       "      <td>39</td>\n",
       "      <td>52XX S KOLMAR AVE</td>\n",
       "      <td>52</td>\n",
       "      <td>T114</td>\n",
       "      <td>GRAVID</td>\n",
       "      <td>1</td>\n",
       "      <td>Res</td>\n",
       "      <td>negative</td>\n",
       "      <td>CULEX RESTUANS</td>\n",
       "      <td>41.798211</td>\n",
       "      <td>-87.736925</td>\n",
       "      <td>2019-09-26</td>\n",
       "      <td>00:09:00</td>\n",
       "    </tr>\n",
       "    <tr>\n",
       "      <th>2019</th>\n",
       "      <td>39</td>\n",
       "      <td>58XX N WESTERN AVE</td>\n",
       "      <td>58</td>\n",
       "      <td>T028</td>\n",
       "      <td>GRAVID</td>\n",
       "      <td>2</td>\n",
       "      <td>Res</td>\n",
       "      <td>negative</td>\n",
       "      <td>CULEX RESTUANS</td>\n",
       "      <td>41.987245</td>\n",
       "      <td>-87.689417</td>\n",
       "      <td>2019-09-26</td>\n",
       "      <td>00:09:00</td>\n",
       "    </tr>\n",
       "    <tr>\n",
       "      <th>2019</th>\n",
       "      <td>39</td>\n",
       "      <td>39XX N SPRINGFIELD AVE</td>\n",
       "      <td>39</td>\n",
       "      <td>T228</td>\n",
       "      <td>GRAVID</td>\n",
       "      <td>1</td>\n",
       "      <td>Res</td>\n",
       "      <td>negative</td>\n",
       "      <td>CULEX RESTUANS</td>\n",
       "      <td>41.953664</td>\n",
       "      <td>-87.724987</td>\n",
       "      <td>2019-09-26</td>\n",
       "      <td>00:09:00</td>\n",
       "    </tr>\n",
       "    <tr>\n",
       "      <th>2019</th>\n",
       "      <td>39</td>\n",
       "      <td>131XX S BRANDON AVE</td>\n",
       "      <td>131</td>\n",
       "      <td>T209</td>\n",
       "      <td>GRAVID</td>\n",
       "      <td>9</td>\n",
       "      <td>Res</td>\n",
       "      <td>negative</td>\n",
       "      <td>CULEX RESTUANS</td>\n",
       "      <td>41.657069</td>\n",
       "      <td>-87.546049</td>\n",
       "      <td>2019-09-26</td>\n",
       "      <td>00:09:00</td>\n",
       "    </tr>\n",
       "  </tbody>\n",
       "</table>\n",
       "</div>"
      ],
      "text/plain": [
       "      Week           Address Block  Block  Trap Trap type  Mosquito number  \\\n",
       "Year                                                                         \n",
       "2019    39   100XX W OHARE AIRPORT    100  T910    GRAVID                2   \n",
       "2019    39       52XX S KOLMAR AVE     52  T114    GRAVID                1   \n",
       "2019    39      58XX N WESTERN AVE     58  T028    GRAVID                2   \n",
       "2019    39  39XX N SPRINGFIELD AVE     39  T228    GRAVID                1   \n",
       "2019    39     131XX S BRANDON AVE    131  T209    GRAVID                9   \n",
       "\n",
       "     Mosquito ID WNV Present         Species        Lat        Lon  \\\n",
       "Year                                                                 \n",
       "2019         Res    negative  CULEX RESTUANS  41.956299 -87.797517   \n",
       "2019         Res    negative  CULEX RESTUANS  41.798211 -87.736925   \n",
       "2019         Res    negative  CULEX RESTUANS  41.987245 -87.689417   \n",
       "2019         Res    negative  CULEX RESTUANS  41.953664 -87.724987   \n",
       "2019         Res    negative  CULEX RESTUANS  41.657069 -87.546049   \n",
       "\n",
       "       Test Date      Time  \n",
       "Year                        \n",
       "2019  2019-09-26  00:09:00  \n",
       "2019  2019-09-26  00:09:00  \n",
       "2019  2019-09-26  00:09:00  \n",
       "2019  2019-09-26  00:09:00  \n",
       "2019  2019-09-26  00:09:00  "
      ]
     },
     "execution_count": 216,
     "metadata": {},
     "output_type": "execute_result"
    }
   ],
   "source": [
    "# Sanity check\n",
    "\n",
    "mdf.head()"
   ]
  },
  {
   "cell_type": "markdown",
   "metadata": {},
   "source": [
    "#### Compare the values in 'Mosquito ID' and 'Species'"
   ]
  },
  {
   "cell_type": "code",
   "execution_count": 218,
   "metadata": {
    "scrolled": false
   },
   "outputs": [
    {
     "data": {
      "image/png": "[encoded data removed]",
      "text/plain": [
       "<Figure size 640x480 with 1 Axes>"
      ]
     },
     "metadata": {},
     "output_type": "display_data"
    }
   ],
   "source": [
    "# 'Mosquito ID'\n",
    "\n",
    "mdf['Mosquito ID'].value_counts().plot(kind = 'bar');"
   ]
  },
  {
   "cell_type": "code",
   "execution_count": 219,
   "metadata": {
    "scrolled": false
   },
   "outputs": [
    {
     "data": {
      "image/png": "[encoded data removed]",
      "text/plain": [
       "<Figure size 640x480 with 1 Axes>"
      ]
     },
     "metadata": {},
     "output_type": "display_data"
    }
   ],
   "source": [
    "# 'Species'\n",
    "\n",
    "mdf['Species'].value_counts().plot(kind = 'bar');"
   ]
  },
  {
   "cell_type": "code",
   "execution_count": 220,
   "metadata": {
    "scrolled": false
   },
   "outputs": [
    {
     "data": {
      "text/plain": [
       "<bound method NDFrame.describe of       Week           Address Block  Block   Trap Trap type  Mosquito number  \\\n",
       "Year                                                                          \n",
       "2019    39   100XX W OHARE AIRPORT    100   T910    GRAVID                2   \n",
       "2019    39       52XX S KOLMAR AVE     52   T114    GRAVID                1   \n",
       "2019    39      58XX N WESTERN AVE     58   T028    GRAVID                2   \n",
       "2019    39  39XX N SPRINGFIELD AVE     39   T228    GRAVID                1   \n",
       "2019    39     131XX S BRANDON AVE    131   T209    GRAVID                9   \n",
       "...    ...                     ...    ...    ...       ...              ...   \n",
       "2013    35          63XX W 64TH ST     63   T155    GRAVID                3   \n",
       "2016    36           3XX W 18TH ST      3   T043    GRAVID                4   \n",
       "2007    34    46XX N MILWAUKEE AVE     46   T003    GRAVID               19   \n",
       "2016    30        127XX S DOTY AVE    127   T115    GRAVID               34   \n",
       "2017    33      20XX N DOMINICK ST     20  T240B  SENTINEL               50   \n",
       "\n",
       "     Mosquito ID WNV Present         Species        Lat        Lon  \\\n",
       "Year                                                                 \n",
       "2019         Res    negative  CULEX RESTUANS  41.956299 -87.797517   \n",
       "2019         Res    negative  CULEX RESTUANS  41.798211 -87.736925   \n",
       "2019         Res    negative  CULEX RESTUANS  41.987245 -87.689417   \n",
       "2019         Res    negative  CULEX RESTUANS  41.953664 -87.724987   \n",
       "2019         Res    negative  CULEX RESTUANS  41.657069 -87.546049   \n",
       "...          ...         ...             ...        ...        ...   \n",
       "2013         Pip    positive   CULEX PIPIENS  41.776009 -87.779408   \n",
       "2016         Pip    positive   CULEX PIPIENS  41.857843 -87.635858   \n",
       "2007         Pip    positive   CULEX PIPIENS  41.965376 -87.758403   \n",
       "2016         Res    positive  CULEX RESTUANS  41.662395 -87.590176   \n",
       "2017         Res    positive  CULEX RESTUANS  41.919197 -87.664758   \n",
       "\n",
       "       Test Date      Time  \n",
       "Year                        \n",
       "2019  2019-09-26  00:09:00  \n",
       "2019  2019-09-26  00:09:00  \n",
       "2019  2019-09-26  00:09:00  \n",
       "2019  2019-09-26  00:09:00  \n",
       "2019  2019-09-26  00:09:00  \n",
       "...          ...       ...  \n",
       "2013  2013-08-29  00:08:00  \n",
       "2016  2016-09-09  00:09:00  \n",
       "2007  2007-08-24  00:08:00  \n",
       "2016  2016-07-27  00:07:00  \n",
       "2017  2017-08-17  00:08:00  \n",
       "\n",
       "[17837 rows x 13 columns]>"
      ]
     },
     "execution_count": 220,
     "metadata": {},
     "output_type": "execute_result"
    }
   ],
   "source": [
    "mdf.describe"
   ]
  },
  {
   "cell_type": "markdown",
   "metadata": {},
   "source": [
    "- Notice that the values in the two columns are exactly the same"
   ]
  },
  {
   "cell_type": "code",
   "execution_count": 221,
   "metadata": {
    "scrolled": false
   },
   "outputs": [
    {
     "data": {
      "text/plain": [
       "Mosquito ID  Species         \n",
       "Pip          CULEX PIPIENS        5311\n",
       "Res          CULEX RESTUANS      11387\n",
       "Sal          CULEX SALINARIUS      222\n",
       "Ter          CULEX TERRITANS       917\n",
       "Name: Species, dtype: int64"
      ]
     },
     "execution_count": 221,
     "metadata": {},
     "output_type": "execute_result"
    }
   ],
   "source": [
    "mdf.groupby(['Mosquito ID','Species'])['Species'].count()"
   ]
  },
  {
   "cell_type": "code",
   "execution_count": 222,
   "metadata": {
    "scrolled": true
   },
   "outputs": [
    {
     "data": {
      "text/plain": [
       "Res    11387\n",
       "Pip     5311\n",
       "Ter      917\n",
       "Sal      222\n",
       "Name: Mosquito ID, dtype: int64"
      ]
     },
     "execution_count": 222,
     "metadata": {},
     "output_type": "execute_result"
    }
   ],
   "source": [
    "# Check the amount of values in 'Mosquito ID'\n",
    "\n",
    "mdf['Mosquito ID'].value_counts()"
   ]
  },
  {
   "cell_type": "code",
   "execution_count": 223,
   "metadata": {
    "scrolled": true
   },
   "outputs": [
    {
     "data": {
      "text/plain": [
       "CULEX RESTUANS      11387\n",
       "CULEX PIPIENS        5311\n",
       "CULEX TERRITANS       917\n",
       "CULEX SALINARIUS      222\n",
       "Name: Species, dtype: int64"
      ]
     },
     "execution_count": 223,
     "metadata": {},
     "output_type": "execute_result"
    }
   ],
   "source": [
    "# Check the amount of values in 'Species'\n",
    "\n",
    "mdf['Species'].value_counts()"
   ]
  },
  {
   "cell_type": "markdown",
   "metadata": {},
   "source": [
    "- Notice that the amount of values in the two columns are exactly the same"
   ]
  },
  {
   "cell_type": "code",
   "execution_count": 225,
   "metadata": {},
   "outputs": [],
   "source": [
    "# Drop the column 'Species' since its values are exactly the same as the ones in 'Mosquito ID'\n",
    "\n",
    "mdf = mdf.drop(columns = 'Species')"
   ]
  },
  {
   "cell_type": "markdown",
   "metadata": {},
   "source": [
    "'Species' should be droped since it has exactly the same data as 'Mosquito ID'."
   ]
  },
  {
   "cell_type": "code",
   "execution_count": 226,
   "metadata": {},
   "outputs": [
    {
     "data": {
      "text/plain": [
       "(17837, 12)"
      ]
     },
     "execution_count": 226,
     "metadata": {},
     "output_type": "execute_result"
    }
   ],
   "source": [
    "# Returns the shape of the updated dataframe\n",
    "\n",
    "mdf.shape"
   ]
  },
  {
   "cell_type": "code",
   "execution_count": 227,
   "metadata": {},
   "outputs": [
    {
     "name": "stdout",
     "output_type": "stream",
     "text": [
      "<class 'pandas.core.frame.DataFrame'>\n",
      "Int64Index: 17837 entries, 2019 to 2017\n",
      "Data columns (total 12 columns):\n",
      " #   Column           Non-Null Count  Dtype  \n",
      "---  ------           --------------  -----  \n",
      " 0   Week             17837 non-null  int64  \n",
      " 1   Address Block    17837 non-null  object \n",
      " 2   Block            17837 non-null  int64  \n",
      " 3   Trap             17837 non-null  object \n",
      " 4   Trap type        17837 non-null  object \n",
      " 5   Mosquito number  17837 non-null  int64  \n",
      " 6   Mosquito ID      17837 non-null  object \n",
      " 7   WNV Present      17837 non-null  object \n",
      " 8   Lat              17837 non-null  float64\n",
      " 9   Lon              17837 non-null  float64\n",
      " 10  Test Date        17837 non-null  object \n",
      " 11  Time             17837 non-null  object \n",
      "dtypes: float64(2), int64(3), object(7)\n",
      "memory usage: 2.3+ MB\n"
     ]
    }
   ],
   "source": [
    "# See a quick updated summary of each column\n",
    "\n",
    "mdf.info()"
   ]
  },
  {
   "cell_type": "code",
   "execution_count": 228,
   "metadata": {},
   "outputs": [
    {
     "data": {
      "text/html": [
       "<div>\n",
       "<style scoped>\n",
       "    .dataframe tbody tr th:only-of-type {\n",
       "        vertical-align: middle;\n",
       "    }\n",
       "\n",
       "    .dataframe tbody tr th {\n",
       "        vertical-align: top;\n",
       "    }\n",
       "\n",
       "    .dataframe thead th {\n",
       "        text-align: right;\n",
       "    }\n",
       "</style>\n",
       "<table border=\"1\" class=\"dataframe\">\n",
       "  <thead>\n",
       "    <tr style=\"text-align: right;\">\n",
       "      <th></th>\n",
       "      <th>Week</th>\n",
       "      <th>Address Block</th>\n",
       "      <th>Block</th>\n",
       "      <th>Trap</th>\n",
       "      <th>Trap type</th>\n",
       "      <th>Mosquito number</th>\n",
       "      <th>Mosquito ID</th>\n",
       "      <th>WNV Present</th>\n",
       "      <th>Lat</th>\n",
       "      <th>Lon</th>\n",
       "      <th>Test Date</th>\n",
       "      <th>Time</th>\n",
       "    </tr>\n",
       "    <tr>\n",
       "      <th>Year</th>\n",
       "      <th></th>\n",
       "      <th></th>\n",
       "      <th></th>\n",
       "      <th></th>\n",
       "      <th></th>\n",
       "      <th></th>\n",
       "      <th></th>\n",
       "      <th></th>\n",
       "      <th></th>\n",
       "      <th></th>\n",
       "      <th></th>\n",
       "      <th></th>\n",
       "    </tr>\n",
       "  </thead>\n",
       "  <tbody>\n",
       "    <tr>\n",
       "      <th>2019</th>\n",
       "      <td>39</td>\n",
       "      <td>100XX W OHARE AIRPORT</td>\n",
       "      <td>100</td>\n",
       "      <td>T910</td>\n",
       "      <td>GRAVID</td>\n",
       "      <td>2</td>\n",
       "      <td>Res</td>\n",
       "      <td>negative</td>\n",
       "      <td>41.956299</td>\n",
       "      <td>-87.797517</td>\n",
       "      <td>2019-09-26</td>\n",
       "      <td>00:09:00</td>\n",
       "    </tr>\n",
       "    <tr>\n",
       "      <th>2019</th>\n",
       "      <td>39</td>\n",
       "      <td>52XX S KOLMAR AVE</td>\n",
       "      <td>52</td>\n",
       "      <td>T114</td>\n",
       "      <td>GRAVID</td>\n",
       "      <td>1</td>\n",
       "      <td>Res</td>\n",
       "      <td>negative</td>\n",
       "      <td>41.798211</td>\n",
       "      <td>-87.736925</td>\n",
       "      <td>2019-09-26</td>\n",
       "      <td>00:09:00</td>\n",
       "    </tr>\n",
       "    <tr>\n",
       "      <th>2019</th>\n",
       "      <td>39</td>\n",
       "      <td>58XX N WESTERN AVE</td>\n",
       "      <td>58</td>\n",
       "      <td>T028</td>\n",
       "      <td>GRAVID</td>\n",
       "      <td>2</td>\n",
       "      <td>Res</td>\n",
       "      <td>negative</td>\n",
       "      <td>41.987245</td>\n",
       "      <td>-87.689417</td>\n",
       "      <td>2019-09-26</td>\n",
       "      <td>00:09:00</td>\n",
       "    </tr>\n",
       "    <tr>\n",
       "      <th>2019</th>\n",
       "      <td>39</td>\n",
       "      <td>39XX N SPRINGFIELD AVE</td>\n",
       "      <td>39</td>\n",
       "      <td>T228</td>\n",
       "      <td>GRAVID</td>\n",
       "      <td>1</td>\n",
       "      <td>Res</td>\n",
       "      <td>negative</td>\n",
       "      <td>41.953664</td>\n",
       "      <td>-87.724987</td>\n",
       "      <td>2019-09-26</td>\n",
       "      <td>00:09:00</td>\n",
       "    </tr>\n",
       "    <tr>\n",
       "      <th>2019</th>\n",
       "      <td>39</td>\n",
       "      <td>131XX S BRANDON AVE</td>\n",
       "      <td>131</td>\n",
       "      <td>T209</td>\n",
       "      <td>GRAVID</td>\n",
       "      <td>9</td>\n",
       "      <td>Res</td>\n",
       "      <td>negative</td>\n",
       "      <td>41.657069</td>\n",
       "      <td>-87.546049</td>\n",
       "      <td>2019-09-26</td>\n",
       "      <td>00:09:00</td>\n",
       "    </tr>\n",
       "  </tbody>\n",
       "</table>\n",
       "</div>"
      ],
      "text/plain": [
       "      Week           Address Block  Block  Trap Trap type  Mosquito number  \\\n",
       "Year                                                                         \n",
       "2019    39   100XX W OHARE AIRPORT    100  T910    GRAVID                2   \n",
       "2019    39       52XX S KOLMAR AVE     52  T114    GRAVID                1   \n",
       "2019    39      58XX N WESTERN AVE     58  T028    GRAVID                2   \n",
       "2019    39  39XX N SPRINGFIELD AVE     39  T228    GRAVID                1   \n",
       "2019    39     131XX S BRANDON AVE    131  T209    GRAVID                9   \n",
       "\n",
       "     Mosquito ID WNV Present        Lat        Lon   Test Date      Time  \n",
       "Year                                                                      \n",
       "2019         Res    negative  41.956299 -87.797517  2019-09-26  00:09:00  \n",
       "2019         Res    negative  41.798211 -87.736925  2019-09-26  00:09:00  \n",
       "2019         Res    negative  41.987245 -87.689417  2019-09-26  00:09:00  \n",
       "2019         Res    negative  41.953664 -87.724987  2019-09-26  00:09:00  \n",
       "2019         Res    negative  41.657069 -87.546049  2019-09-26  00:09:00  "
      ]
     },
     "execution_count": 228,
     "metadata": {},
     "output_type": "execute_result"
    }
   ],
   "source": [
    "# Sanity check\n",
    "\n",
    "mdf.head()"
   ]
  },
  {
   "cell_type": "markdown",
   "metadata": {},
   "source": [
    "#### Analyze two numerical and two categorical columns"
   ]
  },
  {
   "cell_type": "markdown",
   "metadata": {},
   "source": [
    "- Categorical variables -> Bar chart\n",
    "- Numerical variables -> Histogram"
   ]
  },
  {
   "cell_type": "code",
   "execution_count": 231,
   "metadata": {
    "scrolled": false
   },
   "outputs": [
    {
     "data": {
      "image/png": "[encoded data removed]",
      "text/plain": [
       "<Figure size 640x480 with 1 Axes>"
      ]
     },
     "metadata": {},
     "output_type": "display_data"
    }
   ],
   "source": [
    "# Plot a histogram for 'Mosquito number' which is a numerical column\n",
    "\n",
    "plt.figure()\n",
    "\n",
    "plt.hist(mdf['Mosquito number'])\n",
    "plt.title('Distribution of Mosquito Number')\n",
    "plt.xlabel('Mosquito number')\n",
    "plt.ylabel('frequency')\n",
    "plt.axvline(mdf['Mosquito number'].mean(), color=\"lightcoral\", label=\"mean\")\n",
    "plt.axvline(mdf['Mosquito number'].median(), color=\"lightcoral\", linestyle=\"--\", label=\"median\")\n",
    "\n",
    "plt.legend()\n",
    "plt.show()"
   ]
  },
  {
   "cell_type": "code",
   "execution_count": 234,
   "metadata": {},
   "outputs": [
    {
     "data": {
      "text/plain": [
       "4.0"
      ]
     },
     "execution_count": 234,
     "metadata": {},
     "output_type": "execute_result"
    }
   ],
   "source": [
    "mdf['Mosquito number'].median()"
   ]
  },
  {
   "cell_type": "code",
   "execution_count": 233,
   "metadata": {},
   "outputs": [
    {
     "data": {
      "text/plain": [
       "count    17837.000000\n",
       "mean        10.458822\n",
       "std         13.182843\n",
       "min          1.000000\n",
       "25%          2.000000\n",
       "50%          4.000000\n",
       "75%         13.000000\n",
       "max         50.000000\n",
       "Name: Mosquito number, dtype: float64"
      ]
     },
     "execution_count": 233,
     "metadata": {},
     "output_type": "execute_result"
    }
   ],
   "source": [
    "mdf['Mosquito number'].describe()"
   ]
  },
  {
   "cell_type": "markdown",
   "metadata": {},
   "source": [
    "A relevant insights that this graph reveal: \n",
    "\n",
    "   - The mosquito number skews smaller with a long tail of larger number but fewer amount of them. There is a narrow interquartile range between approximately 1-21, meaning that half our observations lie in this narrow range.\n",
    "   - Additionally, the median is 4 while the mean is 10.46."
   ]
  },
  {
   "cell_type": "code",
   "execution_count": 235,
   "metadata": {
    "scrolled": false
   },
   "outputs": [
    {
     "data": {
      "image/png": "[encoded data removed]",
      "text/plain": [
       "<Figure size 640x480 with 1 Axes>"
      ]
     },
     "metadata": {},
     "output_type": "display_data"
    }
   ],
   "source": [
    "# Plot a histogram for 'Week' which is a numerical column\n",
    "\n",
    "plt.figure()\n",
    "\n",
    "plt.hist(mdf['Week'])\n",
    "plt.title('Distribution of Week')\n",
    "plt.xlabel('Week')\n",
    "plt.ylabel('frequency')\n",
    "plt.axvline(mdf['Week'].mean(), color=\"lightcoral\", label=\"mean\")\n",
    "plt.axvline(mdf['Week'].median(), color=\"lightcoral\", linestyle=\"--\", label=\"median\")\n",
    "\n",
    "plt.legend()\n",
    "plt.show()"
   ]
  },
  {
   "cell_type": "code",
   "execution_count": 236,
   "metadata": {},
   "outputs": [
    {
     "data": {
      "image/png": "[encoded data removed]",
      "text/plain": [
       "<Figure size 640x480 with 1 Axes>"
      ]
     },
     "metadata": {},
     "output_type": "display_data"
    }
   ],
   "source": [
    "# Plot another histogram for 'Week' with bins = 40\n",
    "\n",
    "plt.figure()\n",
    "\n",
    "plt.hist(mdf['Week'], bins = 40, alpha = 0.5)\n",
    "plt.title('Distribution of Week')\n",
    "plt.xlabel('Week')\n",
    "plt.ylabel('frequency')\n",
    "plt.axvline(mdf['Week'].mean(), color=\"lightcoral\", label=\"mean\")\n",
    "plt.axvline(mdf['Week'].median(), color=\"lightcoral\", linestyle=\"--\", label=\"median\")\n",
    "\n",
    "plt.legend()\n",
    "plt.show()"
   ]
  },
  {
   "cell_type": "code",
   "execution_count": 237,
   "metadata": {},
   "outputs": [
    {
     "data": {
      "text/plain": [
       "31.0"
      ]
     },
     "execution_count": 237,
     "metadata": {},
     "output_type": "execute_result"
    }
   ],
   "source": [
    "mdf['Week'].median()"
   ]
  },
  {
   "cell_type": "code",
   "execution_count": 239,
   "metadata": {
    "scrolled": false
   },
   "outputs": [
    {
     "data": {
      "text/plain": [
       "count    17837.000000\n",
       "mean        30.979088\n",
       "std          4.377505\n",
       "min         20.000000\n",
       "25%         28.000000\n",
       "50%         31.000000\n",
       "75%         34.000000\n",
       "max         40.000000\n",
       "Name: Week, dtype: float64"
      ]
     },
     "execution_count": 239,
     "metadata": {},
     "output_type": "execute_result"
    }
   ],
   "source": [
    "mdf['Week'].describe()"
   ]
  },
  {
   "cell_type": "markdown",
   "metadata": {},
   "source": [
    "A relevant insights that this graph reveal: \n",
    "\n",
    "   - The graph looks almost like a normal distribution. This would suggest that there is a majority of the population lie in week 32.\n",
    "   - Additionally, the median is 31 while the mean is 30.979. That is why it looks like the lines of the mean and median lie on top of each other."
   ]
  },
  {
   "cell_type": "code",
   "execution_count": 240,
   "metadata": {
    "scrolled": false
   },
   "outputs": [
    {
     "data": {
      "image/png": "[encoded data removed]",
      "text/plain": [
       "<Figure size 640x480 with 1 Axes>"
      ]
     },
     "metadata": {},
     "output_type": "display_data"
    }
   ],
   "source": [
    "# Plot a bar chart for 'Week' which is a categorical column\n",
    "\n",
    "mdf['Trap type'].value_counts().plot(kind = 'bar');\n",
    "plt.title('Bar Chart of Trap Type')\n",
    "plt.xlabel('Trap type')\n",
    "plt.ylabel('frequency');"
   ]
  },
  {
   "cell_type": "code",
   "execution_count": 243,
   "metadata": {
    "scrolled": false
   },
   "outputs": [
    {
     "data": {
      "text/plain": [
       "count      17837\n",
       "unique         4\n",
       "top       GRAVID\n",
       "freq       17098\n",
       "Name: Trap type, dtype: object"
      ]
     },
     "execution_count": 243,
     "metadata": {},
     "output_type": "execute_result"
    }
   ],
   "source": [
    "mdf['Trap type'].describe()"
   ]
  },
  {
   "cell_type": "markdown",
   "metadata": {},
   "source": [
    "A relevant insights that this graph reveal: \n",
    "\n",
    "   - The bar chart shows that there are four types of trap including GRAVID, CDC, SENTINEL, and OVI. And GRAVID is the most used trap type at 17,098 traps.\n",
    "   - Additionally, there are 17,837 values in total."
   ]
  },
  {
   "cell_type": "code",
   "execution_count": 241,
   "metadata": {
    "scrolled": false
   },
   "outputs": [
    {
     "data": {
      "image/png": "[encoded data removed]",
      "text/plain": [
       "<Figure size 640x480 with 1 Axes>"
      ]
     },
     "metadata": {},
     "output_type": "display_data"
    }
   ],
   "source": [
    "# Plot a bar chart for 'Mosquito ID' which is a categorical column\n",
    "\n",
    "mdf['Mosquito ID'].value_counts().plot(kind = 'bar')\n",
    "plt.title('Bar Chart of Mosquito ID')\n",
    "plt.xlabel('Mosquito ID')\n",
    "plt.ylabel('frequency');"
   ]
  },
  {
   "cell_type": "code",
   "execution_count": 244,
   "metadata": {
    "scrolled": true
   },
   "outputs": [
    {
     "data": {
      "text/plain": [
       "count     17837\n",
       "unique        4\n",
       "top         Res\n",
       "freq      11387\n",
       "Name: Mosquito ID, dtype: object"
      ]
     },
     "execution_count": 244,
     "metadata": {},
     "output_type": "execute_result"
    }
   ],
   "source": [
    "mdf['Mosquito ID'].describe()"
   ]
  },
  {
   "cell_type": "markdown",
   "metadata": {},
   "source": [
    "A relevant insights that this graph reveal: \n",
    "\n",
    "   - The bar chart shows that there are four mosquito IDs or species including Res, Pip, Ter, and Sal. The number of mosquitos declines respectively while having Res as the highest specie at 11,387.\n",
    "   - The bar chart shows that there are four types of trap including GRAVID, CDC, SENTINEL, and OVI. And GRAVID is the most used trap type at 17,098 traps.\n",
    "   - Additionally, there are 17,837 values in total."
   ]
  },
  {
   "cell_type": "markdown",
   "metadata": {},
   "source": [
    "### Exploratory Data Analysis (EDA)"
   ]
  },
  {
   "cell_type": "code",
   "execution_count": 245,
   "metadata": {
    "scrolled": true
   },
   "outputs": [
    {
     "data": {
      "text/html": [
       "<div>\n",
       "<style scoped>\n",
       "    .dataframe tbody tr th:only-of-type {\n",
       "        vertical-align: middle;\n",
       "    }\n",
       "\n",
       "    .dataframe tbody tr th {\n",
       "        vertical-align: top;\n",
       "    }\n",
       "\n",
       "    .dataframe thead th {\n",
       "        text-align: right;\n",
       "    }\n",
       "</style>\n",
       "<table border=\"1\" class=\"dataframe\">\n",
       "  <thead>\n",
       "    <tr style=\"text-align: right;\">\n",
       "      <th></th>\n",
       "      <th>Week</th>\n",
       "      <th>Address Block</th>\n",
       "      <th>Block</th>\n",
       "      <th>Trap</th>\n",
       "      <th>Trap type</th>\n",
       "      <th>Mosquito number</th>\n",
       "      <th>Mosquito ID</th>\n",
       "      <th>WNV Present</th>\n",
       "      <th>Lat</th>\n",
       "      <th>Lon</th>\n",
       "      <th>Test Date</th>\n",
       "      <th>Time</th>\n",
       "    </tr>\n",
       "    <tr>\n",
       "      <th>Year</th>\n",
       "      <th></th>\n",
       "      <th></th>\n",
       "      <th></th>\n",
       "      <th></th>\n",
       "      <th></th>\n",
       "      <th></th>\n",
       "      <th></th>\n",
       "      <th></th>\n",
       "      <th></th>\n",
       "      <th></th>\n",
       "      <th></th>\n",
       "      <th></th>\n",
       "    </tr>\n",
       "  </thead>\n",
       "  <tbody>\n",
       "    <tr>\n",
       "      <th>2019</th>\n",
       "      <td>39</td>\n",
       "      <td>100XX W OHARE AIRPORT</td>\n",
       "      <td>100</td>\n",
       "      <td>T910</td>\n",
       "      <td>GRAVID</td>\n",
       "      <td>2</td>\n",
       "      <td>Res</td>\n",
       "      <td>negative</td>\n",
       "      <td>41.956299</td>\n",
       "      <td>-87.797517</td>\n",
       "      <td>2019-09-26</td>\n",
       "      <td>00:09:00</td>\n",
       "    </tr>\n",
       "    <tr>\n",
       "      <th>2019</th>\n",
       "      <td>39</td>\n",
       "      <td>52XX S KOLMAR AVE</td>\n",
       "      <td>52</td>\n",
       "      <td>T114</td>\n",
       "      <td>GRAVID</td>\n",
       "      <td>1</td>\n",
       "      <td>Res</td>\n",
       "      <td>negative</td>\n",
       "      <td>41.798211</td>\n",
       "      <td>-87.736925</td>\n",
       "      <td>2019-09-26</td>\n",
       "      <td>00:09:00</td>\n",
       "    </tr>\n",
       "    <tr>\n",
       "      <th>2019</th>\n",
       "      <td>39</td>\n",
       "      <td>58XX N WESTERN AVE</td>\n",
       "      <td>58</td>\n",
       "      <td>T028</td>\n",
       "      <td>GRAVID</td>\n",
       "      <td>2</td>\n",
       "      <td>Res</td>\n",
       "      <td>negative</td>\n",
       "      <td>41.987245</td>\n",
       "      <td>-87.689417</td>\n",
       "      <td>2019-09-26</td>\n",
       "      <td>00:09:00</td>\n",
       "    </tr>\n",
       "    <tr>\n",
       "      <th>2019</th>\n",
       "      <td>39</td>\n",
       "      <td>39XX N SPRINGFIELD AVE</td>\n",
       "      <td>39</td>\n",
       "      <td>T228</td>\n",
       "      <td>GRAVID</td>\n",
       "      <td>1</td>\n",
       "      <td>Res</td>\n",
       "      <td>negative</td>\n",
       "      <td>41.953664</td>\n",
       "      <td>-87.724987</td>\n",
       "      <td>2019-09-26</td>\n",
       "      <td>00:09:00</td>\n",
       "    </tr>\n",
       "    <tr>\n",
       "      <th>2019</th>\n",
       "      <td>39</td>\n",
       "      <td>131XX S BRANDON AVE</td>\n",
       "      <td>131</td>\n",
       "      <td>T209</td>\n",
       "      <td>GRAVID</td>\n",
       "      <td>9</td>\n",
       "      <td>Res</td>\n",
       "      <td>negative</td>\n",
       "      <td>41.657069</td>\n",
       "      <td>-87.546049</td>\n",
       "      <td>2019-09-26</td>\n",
       "      <td>00:09:00</td>\n",
       "    </tr>\n",
       "  </tbody>\n",
       "</table>\n",
       "</div>"
      ],
      "text/plain": [
       "      Week           Address Block  Block  Trap Trap type  Mosquito number  \\\n",
       "Year                                                                         \n",
       "2019    39   100XX W OHARE AIRPORT    100  T910    GRAVID                2   \n",
       "2019    39       52XX S KOLMAR AVE     52  T114    GRAVID                1   \n",
       "2019    39      58XX N WESTERN AVE     58  T028    GRAVID                2   \n",
       "2019    39  39XX N SPRINGFIELD AVE     39  T228    GRAVID                1   \n",
       "2019    39     131XX S BRANDON AVE    131  T209    GRAVID                9   \n",
       "\n",
       "     Mosquito ID WNV Present        Lat        Lon   Test Date      Time  \n",
       "Year                                                                      \n",
       "2019         Res    negative  41.956299 -87.797517  2019-09-26  00:09:00  \n",
       "2019         Res    negative  41.798211 -87.736925  2019-09-26  00:09:00  \n",
       "2019         Res    negative  41.987245 -87.689417  2019-09-26  00:09:00  \n",
       "2019         Res    negative  41.953664 -87.724987  2019-09-26  00:09:00  \n",
       "2019         Res    negative  41.657069 -87.546049  2019-09-26  00:09:00  "
      ]
     },
     "execution_count": 245,
     "metadata": {},
     "output_type": "execute_result"
    }
   ],
   "source": [
    "# View the column names with some values in each column\n",
    "\n",
    "mdf.head()"
   ]
  },
  {
   "cell_type": "markdown",
   "metadata": {},
   "source": [
    "#### Explore the relationship between 'Mosquito number' and 'Test Date'"
   ]
  },
  {
   "cell_type": "code",
   "execution_count": 255,
   "metadata": {},
   "outputs": [
    {
     "data": {
      "text/plain": [
       "<Figure size 640x480 with 0 Axes>"
      ]
     },
     "metadata": {},
     "output_type": "display_data"
    },
    {
     "data": {
      "image/png": "[encoded data removed]",
      "text/plain": [
       "<Figure size 1500x1500 with 1 Axes>"
      ]
     },
     "metadata": {},
     "output_type": "display_data"
    }
   ],
   "source": [
    "# Create a scatter plot between 'Mosquito number' and 'Test Date'\n",
    "\n",
    "plt.figure()\n",
    "fig,ax = plt.subplots(figsize = (15, 15))\n",
    "\n",
    "plt.scatter(mdf['Test Date'], mdf['Mosquito number'])\n",
    "plt.title('Mosquito Number vs. Test Date')\n",
    "plt.xlabel('Test Date')\n",
    "plt.ylabel('Mosquito number')\n",
    "\n",
    "plt.show()"
   ]
  },
  {
   "cell_type": "code",
   "execution_count": 287,
   "metadata": {},
   "outputs": [
    {
     "data": {
      "text/plain": [
       "Mosquito number  Test Date \n",
       "1                2007-05-29     9\n",
       "                 2007-06-05    19\n",
       "                 2007-06-26    20\n",
       "                 2007-06-29    15\n",
       "                 2007-07-02    17\n",
       "                               ..\n",
       "50               2019-06-13     6\n",
       "                 2019-06-20     3\n",
       "                 2019-06-27     1\n",
       "                 2019-07-11     1\n",
       "                 2019-08-15     3\n",
       "Name: Test Date, Length: 4785, dtype: int64"
      ]
     },
     "execution_count": 287,
     "metadata": {},
     "output_type": "execute_result"
    }
   ],
   "source": [
    "# Group the number of mosquitos by test date\n",
    "\n",
    "mdf.groupby(['Mosquito number','Test Date'])['Test Date'].count()"
   ]
  },
  {
   "cell_type": "markdown",
   "metadata": {},
   "source": [
    "A relevant insights that this graph reveal: \n",
    "\n",
    "   - The scatter plot between 'Mosquito number' and 'Test Date' shows that the majority of mosquito number is in the second quarter.\n",
    "   - After that, the pattern of the dots is expanding and increasing again towarding the end of when the WNV test is performed."
   ]
  },
  {
   "cell_type": "markdown",
   "metadata": {},
   "source": [
    "### Advanced EDA"
   ]
  },
  {
   "cell_type": "markdown",
   "metadata": {},
   "source": [
    "#### Explore the relationship between Mosquito Species and WNV Prevalence"
   ]
  },
  {
   "cell_type": "code",
   "execution_count": 280,
   "metadata": {},
   "outputs": [
    {
     "data": {
      "image/png": "[encoded data removed]",
      "text/plain": [
       "<Figure size 640x480 with 1 Axes>"
      ]
     },
     "metadata": {},
     "output_type": "display_data"
    }
   ],
   "source": [
    "# Create a bar plot for 'WNV Present'\n",
    "\n",
    "mdf['WNV Present'].value_counts().plot(kind = 'bar')\n",
    "plt.title('Bar Plot of WNV Present')\n",
    "plt.xlabel('WNV Present')\n",
    "plt.ylabel('frequency');"
   ]
  },
  {
   "cell_type": "code",
   "execution_count": 285,
   "metadata": {},
   "outputs": [
    {
     "data": {
      "text/plain": [
       "Mosquito ID  WNV Present\n",
       "Pip          negative       4074\n",
       "             positive       1237\n",
       "Res          negative       9309\n",
       "             positive       2078\n",
       "Sal          negative        215\n",
       "             positive          7\n",
       "Ter          negative        903\n",
       "             positive         14\n",
       "Name: WNV Present, dtype: int64"
      ]
     },
     "execution_count": 285,
     "metadata": {},
     "output_type": "execute_result"
    }
   ],
   "source": [
    "# Group the mosquito ID by WNV present\n",
    "\n",
    "mdf.groupby(['Mosquito ID','WNV Present'])['WNV Present'].count()"
   ]
  },
  {
   "cell_type": "code",
   "execution_count": 288,
   "metadata": {},
   "outputs": [
    {
     "data": {
      "text/plain": [
       "Mosquito ID  WNV Present\n",
       "Pip          negative       0.767087\n",
       "             positive       0.232913\n",
       "Res          negative       0.817511\n",
       "             positive       0.182489\n",
       "Sal          negative       0.968468\n",
       "             positive       0.031532\n",
       "Ter          negative       0.984733\n",
       "             positive       0.015267\n",
       "Name: WNV Present, dtype: float64"
      ]
     },
     "execution_count": 288,
     "metadata": {},
     "output_type": "execute_result"
    }
   ],
   "source": [
    "# Proportion of whether WNV present or not based on the mosquito ID (species)\n",
    "\n",
    "mdf.groupby(['Mosquito ID','WNV Present'])['WNV Present'].count() / mdf.groupby('Mosquito ID')['WNV Present'].count()"
   ]
  },
  {
   "cell_type": "code",
   "execution_count": 290,
   "metadata": {},
   "outputs": [
    {
     "data": {
      "text/html": [
       "<div>\n",
       "<style scoped>\n",
       "    .dataframe tbody tr th:only-of-type {\n",
       "        vertical-align: middle;\n",
       "    }\n",
       "\n",
       "    .dataframe tbody tr th {\n",
       "        vertical-align: top;\n",
       "    }\n",
       "\n",
       "    .dataframe thead th {\n",
       "        text-align: right;\n",
       "    }\n",
       "</style>\n",
       "<table border=\"1\" class=\"dataframe\">\n",
       "  <thead>\n",
       "    <tr style=\"text-align: right;\">\n",
       "      <th>WNV Present</th>\n",
       "      <th>positive</th>\n",
       "      <th>negative</th>\n",
       "    </tr>\n",
       "    <tr>\n",
       "      <th>Mosquito ID</th>\n",
       "      <th></th>\n",
       "      <th></th>\n",
       "    </tr>\n",
       "  </thead>\n",
       "  <tbody>\n",
       "    <tr>\n",
       "      <th>Pip</th>\n",
       "      <td>23.291282</td>\n",
       "      <td>76.708718</td>\n",
       "    </tr>\n",
       "    <tr>\n",
       "      <th>Res</th>\n",
       "      <td>18.248880</td>\n",
       "      <td>81.751120</td>\n",
       "    </tr>\n",
       "    <tr>\n",
       "      <th>Sal</th>\n",
       "      <td>3.153153</td>\n",
       "      <td>96.846847</td>\n",
       "    </tr>\n",
       "    <tr>\n",
       "      <th>Ter</th>\n",
       "      <td>1.526718</td>\n",
       "      <td>98.473282</td>\n",
       "    </tr>\n",
       "  </tbody>\n",
       "</table>\n",
       "</div>"
      ],
      "text/plain": [
       "WNV Present   positive   negative\n",
       "Mosquito ID                      \n",
       "Pip          23.291282  76.708718\n",
       "Res          18.248880  81.751120\n",
       "Sal           3.153153  96.846847\n",
       "Ter           1.526718  98.473282"
      ]
     },
     "execution_count": 290,
     "metadata": {},
     "output_type": "execute_result"
    }
   ],
   "source": [
    "# Group WNV present by mosquito ID (species)\n",
    "\n",
    "mosquito_present_data = (mdf.groupby(['Mosquito ID','WNV Present'])['WNV Present'].count() / mdf.groupby('Mosquito ID')['WNV Present'].count())*100\n",
    "\n",
    "mosquito_present_data.unstack()[['positive','negative']]"
   ]
  },
  {
   "cell_type": "code",
   "execution_count": 293,
   "metadata": {},
   "outputs": [
    {
     "data": {
      "image/png": "[encoded data removed]",
      "text/plain": [
       "<Figure size 640x480 with 1 Axes>"
      ]
     },
     "metadata": {},
     "output_type": "display_data"
    }
   ],
   "source": [
    "# Create a stacked horizontal bar plot between 'Mosquito ID (species)' vs. 'WNV prevalence'\n",
    "# Find out which mosquito ID (species) are more likely to show up (or positive)\n",
    "\n",
    "mosquito_present_data.unstack()[['positive','negative']].sort_values('positive').plot(kind = 'barh', stacked = True)\n",
    "plt.title('Mosquito ID (species) vs. WNV Present');"
   ]
  },
  {
   "cell_type": "markdown",
   "metadata": {},
   "source": [
    "A relevant insights that this graph reveal: \n",
    "\n",
    "   - The stacked horizontal bar plot between 'Mosquito ID' and 'WNV Present' shows that the majority, over 20%, of mosquito ID/species that is present is Pip or Pipiens.\n",
    "   - However, the rest of the species (Res, Sal, Ter) are present below 20%."
   ]
  },
  {
   "cell_type": "markdown",
   "metadata": {},
   "source": [
    "#### Explore the relationship between mosquito caught and trap type"
   ]
  },
  {
   "cell_type": "code",
   "execution_count": 318,
   "metadata": {},
   "outputs": [
    {
     "data": {
      "image/png": "[encoded data removed]",
      "text/plain": [
       "<Figure size 640x480 with 1 Axes>"
      ]
     },
     "metadata": {},
     "output_type": "display_data"
    }
   ],
   "source": [
    "# Create a pie chart between 'Mosquito Number' (or mosquito caught) and 'Trap Type'\n",
    "\n",
    "# Sum the amount of mosquito caught for each trap type\n",
    "gravid = mdf.loc[mdf['Trap type'] == 'GRAVID', 'Mosquito number'].sum()\n",
    "sentinel = mdf.loc[mdf['Trap type'] == 'SENTINEL', 'Mosquito number'].sum()\n",
    "cdc = mdf.loc[mdf['Trap type'] == 'CDC', 'Mosquito number'].sum()\n",
    "ovi = mdf.loc[mdf['Trap type'] == 'OVI', 'Mosquito number'].sum()\n",
    "\n",
    "# Create lebels\n",
    "labels = ['GRAVID', 'SENTINEL', 'CDC', 'OVI']\n",
    "size_of_groups=[gravid,sentinel,cdc,ovi]\n",
    "\n",
    "# Create set of colors\n",
    "colors = ['lightblue', 'yellow', 'green', 'red']\n",
    "\n",
    "# Create a pie plot\n",
    "plt.pie(size_of_groups, labels=labels, colors = colors)\n",
    "plt.title('Mosquito Caught vs. Trap Type')\n",
    "\n",
    "# To create a donut chart\n",
    "# Add a circle at the center to transform it in a donut chart\n",
    "# my_circle = plt.Circle( (0,0), 0.7, color='white')\n",
    "# p = plt.gcf()\n",
    "# p.gca().add_artist(my_circle)\n",
    "\n",
    "plt.show()"
   ]
  },
  {
   "cell_type": "code",
   "execution_count": 301,
   "metadata": {
    "scrolled": true
   },
   "outputs": [
    {
     "data": {
      "text/html": [
       "<div>\n",
       "<style scoped>\n",
       "    .dataframe tbody tr th:only-of-type {\n",
       "        vertical-align: middle;\n",
       "    }\n",
       "\n",
       "    .dataframe tbody tr th {\n",
       "        vertical-align: top;\n",
       "    }\n",
       "\n",
       "    .dataframe thead th {\n",
       "        text-align: right;\n",
       "    }\n",
       "</style>\n",
       "<table border=\"1\" class=\"dataframe\">\n",
       "  <thead>\n",
       "    <tr style=\"text-align: right;\">\n",
       "      <th></th>\n",
       "      <th>Week</th>\n",
       "      <th>Address Block</th>\n",
       "      <th>Block</th>\n",
       "      <th>Trap</th>\n",
       "      <th>Mosquito number</th>\n",
       "      <th>Mosquito ID</th>\n",
       "      <th>WNV Present</th>\n",
       "      <th>Lat</th>\n",
       "      <th>Lon</th>\n",
       "      <th>Test Date</th>\n",
       "      <th>Time</th>\n",
       "    </tr>\n",
       "    <tr>\n",
       "      <th>Trap type</th>\n",
       "      <th></th>\n",
       "      <th></th>\n",
       "      <th></th>\n",
       "      <th></th>\n",
       "      <th></th>\n",
       "      <th></th>\n",
       "      <th></th>\n",
       "      <th></th>\n",
       "      <th></th>\n",
       "      <th></th>\n",
       "      <th></th>\n",
       "    </tr>\n",
       "  </thead>\n",
       "  <tbody>\n",
       "    <tr>\n",
       "      <th>CDC</th>\n",
       "      <td>529</td>\n",
       "      <td>529</td>\n",
       "      <td>529</td>\n",
       "      <td>529</td>\n",
       "      <td>529</td>\n",
       "      <td>529</td>\n",
       "      <td>529</td>\n",
       "      <td>529</td>\n",
       "      <td>529</td>\n",
       "      <td>529</td>\n",
       "      <td>529</td>\n",
       "    </tr>\n",
       "    <tr>\n",
       "      <th>GRAVID</th>\n",
       "      <td>17098</td>\n",
       "      <td>17098</td>\n",
       "      <td>17098</td>\n",
       "      <td>17098</td>\n",
       "      <td>17098</td>\n",
       "      <td>17098</td>\n",
       "      <td>17098</td>\n",
       "      <td>17098</td>\n",
       "      <td>17098</td>\n",
       "      <td>17098</td>\n",
       "      <td>17098</td>\n",
       "    </tr>\n",
       "    <tr>\n",
       "      <th>OVI</th>\n",
       "      <td>1</td>\n",
       "      <td>1</td>\n",
       "      <td>1</td>\n",
       "      <td>1</td>\n",
       "      <td>1</td>\n",
       "      <td>1</td>\n",
       "      <td>1</td>\n",
       "      <td>1</td>\n",
       "      <td>1</td>\n",
       "      <td>1</td>\n",
       "      <td>1</td>\n",
       "    </tr>\n",
       "    <tr>\n",
       "      <th>SENTINEL</th>\n",
       "      <td>209</td>\n",
       "      <td>209</td>\n",
       "      <td>209</td>\n",
       "      <td>209</td>\n",
       "      <td>209</td>\n",
       "      <td>209</td>\n",
       "      <td>209</td>\n",
       "      <td>209</td>\n",
       "      <td>209</td>\n",
       "      <td>209</td>\n",
       "      <td>209</td>\n",
       "    </tr>\n",
       "  </tbody>\n",
       "</table>\n",
       "</div>"
      ],
      "text/plain": [
       "            Week  Address Block  Block   Trap  Mosquito number  Mosquito ID  \\\n",
       "Trap type                                                                     \n",
       "CDC          529            529    529    529              529          529   \n",
       "GRAVID     17098          17098  17098  17098            17098        17098   \n",
       "OVI            1              1      1      1                1            1   \n",
       "SENTINEL     209            209    209    209              209          209   \n",
       "\n",
       "           WNV Present    Lat    Lon  Test Date   Time  \n",
       "Trap type                                               \n",
       "CDC                529    529    529        529    529  \n",
       "GRAVID           17098  17098  17098      17098  17098  \n",
       "OVI                  1      1      1          1      1  \n",
       "SENTINEL           209    209    209        209    209  "
      ]
     },
     "execution_count": 301,
     "metadata": {},
     "output_type": "execute_result"
    }
   ],
   "source": [
    "mdf.groupby(['Trap type']).count()"
   ]
  },
  {
   "cell_type": "markdown",
   "metadata": {},
   "source": [
    "A relevant insights that this graph reveal: \n",
    "\n",
    "   - The pie chart between 'Mosquito number' (or mosquito caught) and 'Trap type' shows that the majority (95.85%) of the mosquitos is caught by Gravid trap.\n",
    "   - However, the amount of mosquito caught by other types of trap are very low. Moreover, the mosquitos are barely caught by OVI trap."
   ]
  },
  {
   "cell_type": "markdown",
   "metadata": {},
   "source": [
    "#### Explore the relationship between Map (Lat & Lon) and WNV Present"
   ]
  },
  {
   "cell_type": "code",
   "execution_count": 327,
   "metadata": {},
   "outputs": [],
   "source": [
    "# Import descartes\n",
    "\n",
    "import geopandas as gpd\n",
    "from shapely.geometry import Point, Polygon"
   ]
  },
  {
   "cell_type": "code",
   "execution_count": 324,
   "metadata": {},
   "outputs": [],
   "source": [
    "# Import the .shp file of the map\n",
    "# Source: https://data.cityofchicago.org/Facilities-Geographic-Boundaries/Boundaries-City/ewy2-6yfk\n",
    "\n",
    "map_view = gpd.read_file('Boundaries-City/geo_export_54e1ae2a-3bc3-436a-ad00-c62951e30092.shp')"
   ]
  },
  {
   "cell_type": "code",
   "execution_count": 328,
   "metadata": {},
   "outputs": [
    {
     "data": {
      "image/png": "[encoded data removed]",
      "text/plain": [
       "<Figure size 1500x1500 with 1 Axes>"
      ]
     },
     "metadata": {},
     "output_type": "display_data"
    }
   ],
   "source": [
    "# Plot the map layout\n",
    "\n",
    "fig,ax = plt.subplots(figsize = (15, 15))\n",
    "map_view.plot(ax = ax);"
   ]
  },
  {
   "cell_type": "code",
   "execution_count": 329,
   "metadata": {},
   "outputs": [
    {
     "data": {
      "text/plain": [
       "[<POINT (-87.798 41.956)>, <POINT (-87.737 41.798)>, <POINT (-87.689 41.987)>]"
      ]
     },
     "execution_count": 329,
     "metadata": {},
     "output_type": "execute_result"
    }
   ],
   "source": [
    "# Plot the map using 'Lon' and 'Lat'\n",
    "\n",
    "crs = {'init': 'epsg:4326'}\n",
    "\n",
    "# Assign 'geometry' in a zap file format\n",
    "geometry = [Point(xy) for xy in zip(mdf['Lon'], mdf['Lat'])]\n",
    "geometry[:3]"
   ]
  },
  {
   "cell_type": "code",
   "execution_count": 330,
   "metadata": {
    "scrolled": true
   },
   "outputs": [
    {
     "name": "stderr",
     "output_type": "stream",
     "text": [
      "/Users/srisrisakul/opt/anaconda3/lib/python3.9/site-packages/pyproj/crs/crs.py:141: FutureWarning: '+init=<authority>:<code>' syntax is deprecated. '<authority>:<code>' is the preferred initialization method. When making the change, be mindful of axis order changes: https://pyproj4.github.io/pyproj/stable/gotchas.html#axis-order-changes-in-proj-6\n",
      "  in_crs_string = _prepare_from_proj_string(in_crs_string)\n"
     ]
    },
    {
     "data": {
      "text/html": [
       "<div>\n",
       "<style scoped>\n",
       "    .dataframe tbody tr th:only-of-type {\n",
       "        vertical-align: middle;\n",
       "    }\n",
       "\n",
       "    .dataframe tbody tr th {\n",
       "        vertical-align: top;\n",
       "    }\n",
       "\n",
       "    .dataframe thead th {\n",
       "        text-align: right;\n",
       "    }\n",
       "</style>\n",
       "<table border=\"1\" class=\"dataframe\">\n",
       "  <thead>\n",
       "    <tr style=\"text-align: right;\">\n",
       "      <th></th>\n",
       "      <th>Week</th>\n",
       "      <th>Address Block</th>\n",
       "      <th>Block</th>\n",
       "      <th>Trap</th>\n",
       "      <th>Trap type</th>\n",
       "      <th>Mosquito number</th>\n",
       "      <th>Mosquito ID</th>\n",
       "      <th>WNV Present</th>\n",
       "      <th>Lat</th>\n",
       "      <th>Lon</th>\n",
       "      <th>Test Date</th>\n",
       "      <th>Time</th>\n",
       "      <th>geometry</th>\n",
       "    </tr>\n",
       "    <tr>\n",
       "      <th>Year</th>\n",
       "      <th></th>\n",
       "      <th></th>\n",
       "      <th></th>\n",
       "      <th></th>\n",
       "      <th></th>\n",
       "      <th></th>\n",
       "      <th></th>\n",
       "      <th></th>\n",
       "      <th></th>\n",
       "      <th></th>\n",
       "      <th></th>\n",
       "      <th></th>\n",
       "      <th></th>\n",
       "    </tr>\n",
       "  </thead>\n",
       "  <tbody>\n",
       "    <tr>\n",
       "      <th>2019</th>\n",
       "      <td>39</td>\n",
       "      <td>100XX W OHARE AIRPORT</td>\n",
       "      <td>100</td>\n",
       "      <td>T910</td>\n",
       "      <td>GRAVID</td>\n",
       "      <td>2</td>\n",
       "      <td>Res</td>\n",
       "      <td>negative</td>\n",
       "      <td>41.956299</td>\n",
       "      <td>-87.797517</td>\n",
       "      <td>2019-09-26</td>\n",
       "      <td>00:09:00</td>\n",
       "      <td>POINT (-87.79752 41.95630)</td>\n",
       "    </tr>\n",
       "    <tr>\n",
       "      <th>2019</th>\n",
       "      <td>39</td>\n",
       "      <td>52XX S KOLMAR AVE</td>\n",
       "      <td>52</td>\n",
       "      <td>T114</td>\n",
       "      <td>GRAVID</td>\n",
       "      <td>1</td>\n",
       "      <td>Res</td>\n",
       "      <td>negative</td>\n",
       "      <td>41.798211</td>\n",
       "      <td>-87.736925</td>\n",
       "      <td>2019-09-26</td>\n",
       "      <td>00:09:00</td>\n",
       "      <td>POINT (-87.73692 41.79821)</td>\n",
       "    </tr>\n",
       "    <tr>\n",
       "      <th>2019</th>\n",
       "      <td>39</td>\n",
       "      <td>58XX N WESTERN AVE</td>\n",
       "      <td>58</td>\n",
       "      <td>T028</td>\n",
       "      <td>GRAVID</td>\n",
       "      <td>2</td>\n",
       "      <td>Res</td>\n",
       "      <td>negative</td>\n",
       "      <td>41.987245</td>\n",
       "      <td>-87.689417</td>\n",
       "      <td>2019-09-26</td>\n",
       "      <td>00:09:00</td>\n",
       "      <td>POINT (-87.68942 41.98724)</td>\n",
       "    </tr>\n",
       "    <tr>\n",
       "      <th>2019</th>\n",
       "      <td>39</td>\n",
       "      <td>39XX N SPRINGFIELD AVE</td>\n",
       "      <td>39</td>\n",
       "      <td>T228</td>\n",
       "      <td>GRAVID</td>\n",
       "      <td>1</td>\n",
       "      <td>Res</td>\n",
       "      <td>negative</td>\n",
       "      <td>41.953664</td>\n",
       "      <td>-87.724987</td>\n",
       "      <td>2019-09-26</td>\n",
       "      <td>00:09:00</td>\n",
       "      <td>POINT (-87.72499 41.95366)</td>\n",
       "    </tr>\n",
       "    <tr>\n",
       "      <th>2019</th>\n",
       "      <td>39</td>\n",
       "      <td>131XX S BRANDON AVE</td>\n",
       "      <td>131</td>\n",
       "      <td>T209</td>\n",
       "      <td>GRAVID</td>\n",
       "      <td>9</td>\n",
       "      <td>Res</td>\n",
       "      <td>negative</td>\n",
       "      <td>41.657069</td>\n",
       "      <td>-87.546049</td>\n",
       "      <td>2019-09-26</td>\n",
       "      <td>00:09:00</td>\n",
       "      <td>POINT (-87.54605 41.65707)</td>\n",
       "    </tr>\n",
       "  </tbody>\n",
       "</table>\n",
       "</div>"
      ],
      "text/plain": [
       "      Week           Address Block  Block  Trap Trap type  Mosquito number  \\\n",
       "Year                                                                         \n",
       "2019    39   100XX W OHARE AIRPORT    100  T910    GRAVID                2   \n",
       "2019    39       52XX S KOLMAR AVE     52  T114    GRAVID                1   \n",
       "2019    39      58XX N WESTERN AVE     58  T028    GRAVID                2   \n",
       "2019    39  39XX N SPRINGFIELD AVE     39  T228    GRAVID                1   \n",
       "2019    39     131XX S BRANDON AVE    131  T209    GRAVID                9   \n",
       "\n",
       "     Mosquito ID WNV Present        Lat        Lon   Test Date      Time  \\\n",
       "Year                                                                       \n",
       "2019         Res    negative  41.956299 -87.797517  2019-09-26  00:09:00   \n",
       "2019         Res    negative  41.798211 -87.736925  2019-09-26  00:09:00   \n",
       "2019         Res    negative  41.987245 -87.689417  2019-09-26  00:09:00   \n",
       "2019         Res    negative  41.953664 -87.724987  2019-09-26  00:09:00   \n",
       "2019         Res    negative  41.657069 -87.546049  2019-09-26  00:09:00   \n",
       "\n",
       "                        geometry  \n",
       "Year                              \n",
       "2019  POINT (-87.79752 41.95630)  \n",
       "2019  POINT (-87.73692 41.79821)  \n",
       "2019  POINT (-87.68942 41.98724)  \n",
       "2019  POINT (-87.72499 41.95366)  \n",
       "2019  POINT (-87.54605 41.65707)  "
      ]
     },
     "execution_count": 330,
     "metadata": {},
     "output_type": "execute_result"
    }
   ],
   "source": [
    "# Assign 'geo' to the dataframe above\n",
    "\n",
    "geo = gpd.GeoDataFrame(mdf, crs = crs, geometry = geometry)\n",
    "\n",
    "geo.head()"
   ]
  },
  {
   "cell_type": "markdown",
   "metadata": {},
   "source": [
    "- This results in adding the column 'geometry' to the dataframe."
   ]
  },
  {
   "cell_type": "code",
   "execution_count": 331,
   "metadata": {},
   "outputs": [],
   "source": [
    "# Import make_axes_locatable\n",
    "\n",
    "from mpl_toolkits.axes_grid1 import make_axes_locatable"
   ]
  },
  {
   "cell_type": "code",
   "execution_count": 332,
   "metadata": {},
   "outputs": [
    {
     "name": "stderr",
     "output_type": "stream",
     "text": [
      "No artists with labels found to put in legend.  Note that artists whose label start with an underscore are ignored when legend() is called with no argument.\n"
     ]
    },
    {
     "data": {
      "image/png": "[encoded data removed]",
      "text/plain": [
       "<Figure size 1500x1500 with 2 Axes>"
      ]
     },
     "metadata": {},
     "output_type": "display_data"
    }
   ],
   "source": [
    "# Plot 'WNV Present' on the map\n",
    "\n",
    "# Size of the map\n",
    "fig,ax = plt.subplots(figsize = (15, 15))\n",
    "\n",
    "# Plot the map\n",
    "map_view.plot(ax = ax, alpha = 0.4, color = 'grey')\n",
    "divider = make_axes_locatable(ax)\n",
    "cax = divider.append_axes(\"right\", size = \"2%\", pad = \"0.5%\")\n",
    "geo.plot(column = 'WNV Present', label = 'WNV', ax = ax, legend = True)\n",
    "plt.legend(prop = {'size': 15});"
   ]
  },
  {
   "cell_type": "markdown",
   "metadata": {},
   "source": [
    "A relevant insights that this graph reveal: \n",
    "\n",
    "   - According to the map, it looks like there is no pattern of WNV present. The virus spreads all over the map, the City of Chicago."
   ]
  },
  {
   "cell_type": "markdown",
   "metadata": {},
   "source": [
    "### Findings Summary\n",
    "\n",
    "Findings that have been found in the dataframe:"
   ]
  },
  {
   "cell_type": "markdown",
   "metadata": {},
   "source": [
    "- There is a pattern among the duplicates. What all duplicates have in common is including 'WNV Present', 'Lat', and 'Lon'. However, there is NaN in 'Lat' and 'Lon' which means there is no value.\n",
    "- There is a pattern of 'Date' where the data is shown as 'Test Date - Time'\n",
    "- The majority of frequency falls into the time between 06:00 to 08:00.\n",
    "- The values as well as the amount of values in the columns ‘Mosquito ID’ and ’Species’ are exactly the same.\n",
    "- The majority of the population lie in week 32."
   ]
  },
  {
   "cell_type": "markdown",
   "metadata": {},
   "source": [
    "### Conclusions\n",
    "\n",
    "Summarize what has been found from the initial analysis:"
   ]
  },
  {
   "cell_type": "markdown",
   "metadata": {},
   "source": [
    "- GRAVID is the most used trap type and OVI is the least used one.\n",
    "- The majority of the mosquitos is Restuans and the least one is Salinarius.\n",
    "- Pipiens is the majority of the mosquito species presents.\n",
    "- The majority of the mosquitos is caught by Gravid trap.\n",
    "- To improve the test, the amount of the trap types should be used equally in each test spot in order to compare which type would attach the moquitos the most. Also, it is possible that a certain type of trap might be more likely to attach a certain species. Moreover, the amount of mosquitos present could be affected by the weather during the certain time of the year."
   ]
  },
  {
   "cell_type": "markdown",
   "metadata": {},
   "source": [
    "### Saving the data\n",
    "\n",
    "After spending time cleaning and exploring this dataset, the cleaned dataset should be saved:"
   ]
  },
  {
   "cell_type": "code",
   "execution_count": null,
   "metadata": {},
   "outputs": [],
   "source": [
    "mdf.to_csv('clean_mosquito_data.csv', index = False)"
   ]
  }
 ],
 "metadata": {
  "kernelspec": {
   "display_name": "Python 3 (ipykernel)",
   "language": "python",
   "name": "python3"
  },
  "language_info": {
   "codemirror_mode": {
    "name": "ipython",
    "version": 3
   },
   "file_extension": ".py",
   "mimetype": "text/x-python",
   "name": "python",
   "nbconvert_exporter": "python",
   "pygments_lexer": "ipython3",
   "version": "3.9.16"
  }
 },
 "nbformat": 4,
 "nbformat_minor": 4
}
